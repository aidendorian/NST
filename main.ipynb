{
 "cells": [
  {
   "cell_type": "markdown",
   "id": "c885f355",
   "metadata": {},
   "source": [
    "# **Neural Style Transfer**"
   ]
  },
  {
   "cell_type": "markdown",
   "id": "fe5f4ea2",
   "metadata": {},
   "source": [
    "##  Preparation"
   ]
  },
  {
   "cell_type": "markdown",
   "id": "a24fac02",
   "metadata": {},
   "source": [
    "### Imports"
   ]
  },
  {
   "cell_type": "code",
   "execution_count": 16,
   "id": "9b619620",
   "metadata": {},
   "outputs": [],
   "source": [
    "import tensorflow as tf\n",
    "import numpy as np\n",
    "import os\n",
    "import matplotlib.pyplot as plt\n",
    "from tensorflow.keras.layers import Dense, Flatten, Activation, Conv2D, MaxPooling2D, Dropout, Rescaling\n",
    "from tensorflow.keras.models import Sequential, load_model, Model\n",
    "import kagglehub\n",
    "import glob"
   ]
  },
  {
   "cell_type": "markdown",
   "id": "1f905f76",
   "metadata": {},
   "source": [
    "### Global Variables and Policy"
   ]
  },
  {
   "cell_type": "code",
   "execution_count": 11,
   "id": "a1c354d2",
   "metadata": {},
   "outputs": [],
   "source": [
    "tf.keras.mixed_precision.set_global_policy(\"mixed_float16\")"
   ]
  },
  {
   "cell_type": "code",
   "execution_count": 2,
   "id": "9e978ddd",
   "metadata": {},
   "outputs": [],
   "source": [
    "IMAGE_SIZE = 256\n",
    "epochs = 10\n",
    "batch_size = 16"
   ]
  },
  {
   "cell_type": "code",
   "execution_count": 12,
   "id": "011b75de",
   "metadata": {},
   "outputs": [],
   "source": [
    "gpus = tf.config.experimental.list_physical_devices('GPU')\n",
    "if gpus:\n",
    "    try:\n",
    "        for gpu in gpus:\n",
    "            tf.config.experimental.set_memory_growth(gpu, True)\n",
    "    except RuntimeError as e:\n",
    "        print(\"GPU memory growth configuration error:\", e)"
   ]
  },
  {
   "cell_type": "code",
   "execution_count": 13,
   "id": "85f205f8",
   "metadata": {},
   "outputs": [
    {
     "data": {
      "text/plain": [
       "0"
      ]
     },
     "execution_count": 13,
     "metadata": {},
     "output_type": "execute_result"
    }
   ],
   "source": [
    "import gc\n",
    "tf.keras.backend.clear_session()\n",
    "gc.collect()"
   ]
  },
  {
   "cell_type": "markdown",
   "id": "6a4f5fd0",
   "metadata": {},
   "source": [
    "### Dataset"
   ]
  },
  {
   "cell_type": "code",
   "execution_count": 14,
   "id": "dbbb728e",
   "metadata": {},
   "outputs": [
    {
     "data": {
      "text/plain": [
       "'/home/oslyris/.cache/kagglehub/datasets/shaorrran/coco-wikiart-nst-dataset-512-100000/versions/1'"
      ]
     },
     "execution_count": 14,
     "metadata": {},
     "output_type": "execute_result"
    }
   ],
   "source": [
    "path_to_dataset = kagglehub.dataset_download(\"shaorrran/coco-wikiart-nst-dataset-512-100000\")\n",
    "path_to_dataset"
   ]
  },
  {
   "cell_type": "code",
   "execution_count": 15,
   "id": "df2379fb",
   "metadata": {},
   "outputs": [
    {
     "name": "stdout",
     "output_type": "stream",
     "text": [
      "Found 49981 files.\n",
      "Found 49981 files.\n"
     ]
    }
   ],
   "source": [
    "content_data = tf.keras.preprocessing.image_dataset_from_directory(directory=path_to_dataset+\"/content/\",\n",
    "                                                                   labels=None,\n",
    "                                                                   label_mode=None,\n",
    "                                                                   color_mode=\"rgb\",\n",
    "                                                                   image_size=(IMAGE_SIZE, IMAGE_SIZE),\n",
    "                                                                   shuffle=True,\n",
    "                                                                   batch_size=batch_size)\n",
    "style_data = tf.keras.preprocessing.image_dataset_from_directory(directory=path_to_dataset+\"/style/\",\n",
    "                                                                 labels=None,\n",
    "                                                                 label_mode=None,\n",
    "                                                                 color_mode=\"rgb\",\n",
    "                                                                 image_size=(IMAGE_SIZE, IMAGE_SIZE),\n",
    "                                                                 shuffle=True,\n",
    "                                                                 batch_size=batch_size)"
   ]
  },
  {
   "cell_type": "code",
   "execution_count": 20,
   "id": "569479de",
   "metadata": {},
   "outputs": [],
   "source": [
    "# normalization layer to rescale\n",
    "normalization_layer = Rescaling(1/255.)\n",
    "\n",
    "# combinbing and rescaling datasets with parallel processing and prefetching\n",
    "dataset = tf.data.Dataset.zip((content_data, style_data))\n",
    "dataset = dataset.map(lambda c, s: (normalization_layer(c), normalization_layer(s)), num_parallel_calls=tf.data.AUTOTUNE).prefetch(buffer_size=tf.data.AUTOTUNE)"
   ]
  },
  {
   "cell_type": "code",
   "execution_count": null,
   "id": "6205981b",
   "metadata": {},
   "outputs": [],
   "source": []
  }
 ],
 "metadata": {
  "kernelspec": {
   "display_name": "imgCl",
   "language": "python",
   "name": "python3"
  },
  "language_info": {
   "codemirror_mode": {
    "name": "ipython",
    "version": 3
   },
   "file_extension": ".py",
   "mimetype": "text/x-python",
   "name": "python",
   "nbconvert_exporter": "python",
   "pygments_lexer": "ipython3",
   "version": "3.12.3"
  }
 },
 "nbformat": 4,
 "nbformat_minor": 5
}
