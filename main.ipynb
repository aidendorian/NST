{
 "cells": [
  {
   "cell_type": "markdown",
   "id": "c885f355",
   "metadata": {},
   "source": [
    "# **Neural Style Transfer**"
   ]
  },
  {
   "cell_type": "markdown",
   "id": "fe5f4ea2",
   "metadata": {},
   "source": [
    "##  Preparation"
   ]
  },
  {
   "cell_type": "markdown",
   "id": "a24fac02",
   "metadata": {},
   "source": [
    "### Imports"
   ]
  },
  {
   "cell_type": "code",
   "execution_count": 78,
   "id": "9b619620",
   "metadata": {},
   "outputs": [],
   "source": [
    "import tensorflow as tf\n",
    "import numpy as np\n",
    "import os\n",
    "import matplotlib.pyplot as plt\n",
    "from tensorflow.keras.layers import Dense, Flatten, Activation, Conv2D, MaxPooling2D, Dropout, Rescaling\n",
    "from tensorflow.keras.models import Sequential, load_model, Model\n",
    "import kagglehub\n",
    "import glob"
   ]
  },
  {
   "cell_type": "markdown",
   "id": "1f905f76",
   "metadata": {},
   "source": [
    "### Global Variables and Policy"
   ]
  },
  {
   "cell_type": "code",
   "execution_count": 79,
   "id": "13583a25",
   "metadata": {},
   "outputs": [],
   "source": [
    "content_layers = ['block5_conv2']\n",
    "style_layers = ['block1_conv1', 'block2_conv1', 'block3_conv1', 'block4_conv1']"
   ]
  },
  {
   "cell_type": "code",
   "execution_count": 80,
   "id": "a1c354d2",
   "metadata": {},
   "outputs": [],
   "source": [
    "tf.keras.mixed_precision.set_global_policy(\"mixed_float16\")"
   ]
  },
  {
   "cell_type": "code",
   "execution_count": 81,
   "id": "9e978ddd",
   "metadata": {},
   "outputs": [],
   "source": [
    "IMAGE_SIZE = 256\n",
    "epochs = 10\n",
    "batch_size = 2"
   ]
  },
  {
   "cell_type": "code",
   "execution_count": 82,
   "id": "011b75de",
   "metadata": {},
   "outputs": [],
   "source": [
    "gpus = tf.config.experimental.list_physical_devices('GPU')\n",
    "if gpus:\n",
    "    try:\n",
    "        for gpu in gpus:\n",
    "            tf.config.experimental.set_memory_growth(gpu, True)\n",
    "    except RuntimeError as e:\n",
    "        print(\"GPU memory growth configuration error:\", e)"
   ]
  },
  {
   "cell_type": "code",
   "execution_count": 83,
   "id": "85f205f8",
   "metadata": {},
   "outputs": [
    {
     "data": {
      "text/plain": [
       "0"
      ]
     },
     "execution_count": 83,
     "metadata": {},
     "output_type": "execute_result"
    }
   ],
   "source": [
    "import gc\n",
    "tf.keras.backend.clear_session()\n",
    "gc.collect()"
   ]
  },
  {
   "cell_type": "markdown",
   "id": "6a4f5fd0",
   "metadata": {},
   "source": [
    "### Dataset"
   ]
  },
  {
   "cell_type": "code",
   "execution_count": 84,
   "id": "dbbb728e",
   "metadata": {},
   "outputs": [
    {
     "data": {
      "text/plain": [
       "'/home/oslyris/.cache/kagglehub/datasets/shaorrran/coco-wikiart-nst-dataset-512-100000/versions/1'"
      ]
     },
     "execution_count": 84,
     "metadata": {},
     "output_type": "execute_result"
    }
   ],
   "source": [
    "path_to_dataset = kagglehub.dataset_download(\"shaorrran/coco-wikiart-nst-dataset-512-100000\")\n",
    "path_to_dataset"
   ]
  },
  {
   "cell_type": "code",
   "execution_count": 85,
   "id": "df2379fb",
   "metadata": {},
   "outputs": [
    {
     "name": "stdout",
     "output_type": "stream",
     "text": [
      "Found 49981 files.\n",
      "Found 49981 files.\n"
     ]
    }
   ],
   "source": [
    "content_data = tf.keras.preprocessing.image_dataset_from_directory(directory=path_to_dataset+\"/content/\",\n",
    "                                                                   labels=None,\n",
    "                                                                   label_mode=None,\n",
    "                                                                   color_mode=\"rgb\",\n",
    "                                                                   image_size=(IMAGE_SIZE, IMAGE_SIZE),\n",
    "                                                                   shuffle=True,\n",
    "                                                                   batch_size=batch_size)\n",
    "style_data = tf.keras.preprocessing.image_dataset_from_directory(directory=path_to_dataset+\"/style/\",\n",
    "                                                                 labels=None,\n",
    "                                                                 label_mode=None,\n",
    "                                                                 color_mode=\"rgb\",\n",
    "                                                                 image_size=(IMAGE_SIZE, IMAGE_SIZE),\n",
    "                                                                 shuffle=True,\n",
    "                                                                 batch_size=batch_size)"
   ]
  },
  {
   "cell_type": "code",
   "execution_count": 86,
   "id": "569479de",
   "metadata": {},
   "outputs": [],
   "source": [
    "# normalization layer to rescale\n",
    "normalization_layer = Rescaling(1/255.)\n",
    "\n",
    "# combinbing and rescaling datasets with parallel processing and prefetching\n",
    "dataset = tf.data.Dataset.zip((content_data, style_data))\n",
    "dataset = dataset.map(lambda c, s: (normalization_layer(c), normalization_layer(s)), num_parallel_calls=tf.data.AUTOTUNE).prefetch(buffer_size=tf.data.AUTOTUNE)"
   ]
  },
  {
   "cell_type": "markdown",
   "id": "9246ece7",
   "metadata": {},
   "source": [
    "## Custom Layers"
   ]
  },
  {
   "cell_type": "markdown",
   "id": "edd2dd39",
   "metadata": {},
   "source": [
    "### Adaptive Instance Normalization"
   ]
  },
  {
   "cell_type": "code",
   "execution_count": null,
   "id": "6205981b",
   "metadata": {},
   "outputs": [],
   "source": [
    "class AdaptiveInstanceNormalization(tf.keras.layers.Layer):\n",
    "    def __init__(self, epsilon=1e-5, **kwargs):\n",
    "        super().__init__(**kwargs)\n",
    "        self.epsilon = epsilon\n",
    "\n",
    "    def call(self, inputs):\n",
    "        content_features, style_features = inputs\n",
    "        stylized_features = []\n",
    "\n",
    "        content_features = tf.cast(content_features, tf.float32)\n",
    "        \n",
    "        for style_feature in style_features:\n",
    "            style_feature = tf.cast(style_feature, tf.float32)\n",
    "            \n",
    "            target_height, target_width = tf.shape(style_feature)[1], tf.shape(style_feature)[2]\n",
    "            \n",
    "            resized_content = tf.image.resize(\n",
    "                content_features, \n",
    "                [target_height, target_width],\n",
    "                method='bilinear'\n",
    "            )\n",
    "            \n",
    "            target_channels = style_feature.shape[-1]\n",
    "            if resized_content.shape[-1] != target_channels:\n",
    "                conv_layer = tf.keras.layers.Conv2D(target_channels, 1, padding='same')\n",
    "                resized_content = conv_layer(resized_content)\n",
    "\n",
    "            content_mean, content_var = tf.nn.moments(resized_content, axes=[1, 2], keepdims=True)\n",
    "            content_std = tf.sqrt(content_var + self.epsilon)\n",
    "            normalized_content = (resized_content - content_mean) / content_std\n",
    "\n",
    "            style_mean, style_var = tf.nn.moments(style_feature, axes=[1, 2], keepdims=True)\n",
    "            style_std = tf.sqrt(style_var + self.epsilon)\n",
    "\n",
    "            style_mean = tf.broadcast_to(style_mean, tf.shape(normalized_content))\n",
    "            style_std = tf.broadcast_to(style_std, tf.shape(normalized_content))\n",
    "\n",
    "            stylized_feature = normalized_content * style_std + style_mean\n",
    "            \n",
    "            stylized_feature = tf.cast(stylized_feature, tf.float16)\n",
    "            stylized_features.append(stylized_feature)\n",
    "\n",
    "        return stylized_features"
   ]
  },
  {
   "cell_type": "markdown",
   "id": "b516f51b",
   "metadata": {},
   "source": [
    "### Style and Content Feature Extractors"
   ]
  },
  {
   "cell_type": "code",
   "execution_count": 88,
   "id": "d9ab20f1",
   "metadata": {},
   "outputs": [],
   "source": [
    "base = tf.keras.applications.VGG19(weights=\"imagenet\", include_top=False)\n",
    "base.trainable = False\n",
    "content_output = [base.get_layer(layer).output for layer in content_layers]\n",
    "style_output = [base.get_layer(layer).output for layer in style_layers]\n",
    "content_extractor = tf.keras.Model(base.input, content_output)\n",
    "style_extractor = tf.keras.Model(base.input, style_output)"
   ]
  },
  {
   "cell_type": "code",
   "execution_count": 89,
   "id": "2787b04b",
   "metadata": {},
   "outputs": [],
   "source": [
    "# tf.keras.utils.plot_model(style_extractor, \"style_extractor.png\", show_shapes=True)"
   ]
  },
  {
   "cell_type": "code",
   "execution_count": 90,
   "id": "9c0a2eb8",
   "metadata": {},
   "outputs": [],
   "source": [
    "# tf.keras.utils.plot_model(content_extractor, \"content_extractor.png\", show_shapes=True)"
   ]
  },
  {
   "cell_type": "markdown",
   "id": "f815e572",
   "metadata": {},
   "source": [
    "### Adaptive Convolutaion Layer"
   ]
  },
  {
   "cell_type": "code",
   "execution_count": 91,
   "id": "b567c464",
   "metadata": {},
   "outputs": [],
   "source": [
    "class AdaptiveConv2D(tf.keras.layers.Layer):\n",
    "    def __init__(self, filters, kernel_size=3, epsilon=1e-5, **kwargs):\n",
    "        super(AdaptiveConv2D, self).__init__(**kwargs)\n",
    "        self.filters = filters\n",
    "        self.kernel_size = kernel_size\n",
    "        self.epsilon = epsilon\n",
    "        self.kernel_predictor = None\n",
    "        \n",
    "    def build(self, input_shape):\n",
    "        self.kernel_predictor = Conv2D(self.filters * self.kernel_size **2, strides=1,\n",
    "                                       padding=\"same\",\n",
    "                                       kernel_initializer=tf.keras.initializers.RandomNormal(mean=0., stddev=0.02))\n",
    "        super(AdaptiveConv2D, self).build(input_shape)\n",
    "    \n",
    "    def call(self, inputs):\n",
    "        weight = self.kernel_predictor(inputs)\n",
    "        weight = tf.reshape(weight, (-1, self.kernel_size, self.kernel_size, self.filters))\n",
    "        return tf.nn.conv2d(inputs, weight, strides=1, padding=\"SAME\")"
   ]
  }
 ],
 "metadata": {
  "kernelspec": {
   "display_name": "imgCl",
   "language": "python",
   "name": "python3"
  },
  "language_info": {
   "codemirror_mode": {
    "name": "ipython",
    "version": 3
   },
   "file_extension": ".py",
   "mimetype": "text/x-python",
   "name": "python",
   "nbconvert_exporter": "python",
   "pygments_lexer": "ipython3",
   "version": "3.12.3"
  }
 },
 "nbformat": 4,
 "nbformat_minor": 5
}
