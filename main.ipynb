{
 "cells": [
  {
   "cell_type": "markdown",
   "id": "c885f355",
   "metadata": {},
   "source": [
    "# **Neural Style Transfer**"
   ]
  },
  {
   "cell_type": "markdown",
   "id": "fe5f4ea2",
   "metadata": {},
   "source": [
    "##  Preparation"
   ]
  },
  {
   "cell_type": "markdown",
   "id": "a24fac02",
   "metadata": {},
   "source": [
    "### Imports"
   ]
  },
  {
   "cell_type": "code",
   "execution_count": 1,
   "id": "9b619620",
   "metadata": {},
   "outputs": [
    {
     "name": "stderr",
     "output_type": "stream",
     "text": [
      "2025-06-07 09:28:50.863693: E external/local_xla/xla/stream_executor/cuda/cuda_fft.cc:477] Unable to register cuFFT factory: Attempting to register factory for plugin cuFFT when one has already been registered\n",
      "WARNING: All log messages before absl::InitializeLog() is called are written to STDERR\n",
      "E0000 00:00:1749288531.032598   78259 cuda_dnn.cc:8310] Unable to register cuDNN factory: Attempting to register factory for plugin cuDNN when one has already been registered\n",
      "E0000 00:00:1749288531.072811   78259 cuda_blas.cc:1418] Unable to register cuBLAS factory: Attempting to register factory for plugin cuBLAS when one has already been registered\n",
      "2025-06-07 09:28:51.405666: I tensorflow/core/platform/cpu_feature_guard.cc:210] This TensorFlow binary is optimized to use available CPU instructions in performance-critical operations.\n",
      "To enable the following instructions: AVX2 FMA, in other operations, rebuild TensorFlow with the appropriate compiler flags.\n"
     ]
    }
   ],
   "source": [
    "import tensorflow as tf\n",
    "import numpy as np\n",
    "import os\n",
    "import matplotlib.pyplot as plt\n",
    "from tensorflow.keras.layers import Dense, Flatten, Activation, Conv2D, MaxPooling2D, Dropout, Rescaling\n",
    "from tensorflow.keras.models import Sequential, load_model, Model\n",
    "import kagglehub\n",
    "import glob"
   ]
  },
  {
   "cell_type": "markdown",
   "id": "1f905f76",
   "metadata": {},
   "source": [
    "### Global Variables and Policy"
   ]
  },
  {
   "cell_type": "code",
   "execution_count": 2,
   "id": "9549ecf4",
   "metadata": {},
   "outputs": [],
   "source": [
    "gpus = tf.config.experimental.list_physical_devices('GPU')\n",
    "if gpus:\n",
    "    try:\n",
    "        for gpu in gpus:\n",
    "            tf.config.experimental.set_memory_growth(gpu, True)\n",
    "    except RuntimeError as e:\n",
    "        print(\"GPU memory growth configuration error:\", e)"
   ]
  },
  {
   "cell_type": "code",
   "execution_count": 3,
   "id": "13583a25",
   "metadata": {},
   "outputs": [],
   "source": [
    "content_layers = ['block5_conv2']\n",
    "style_layers = ['block1_conv1', 'block2_conv1', 'block3_conv1', 'block4_conv1']"
   ]
  },
  {
   "cell_type": "code",
   "execution_count": 4,
   "id": "a1c354d2",
   "metadata": {},
   "outputs": [],
   "source": [
    "tf.keras.mixed_precision.set_global_policy(\"mixed_float16\")"
   ]
  },
  {
   "cell_type": "code",
   "execution_count": 5,
   "id": "9e978ddd",
   "metadata": {},
   "outputs": [],
   "source": [
    "IMAGE_SIZE = 256\n",
    "epochs = 10\n",
    "batch_size = 2"
   ]
  },
  {
   "cell_type": "code",
   "execution_count": 6,
   "id": "85f205f8",
   "metadata": {},
   "outputs": [
    {
     "data": {
      "text/plain": [
       "0"
      ]
     },
     "execution_count": 6,
     "metadata": {},
     "output_type": "execute_result"
    }
   ],
   "source": [
    "import gc\n",
    "tf.keras.backend.clear_session()\n",
    "gc.collect()"
   ]
  },
  {
   "cell_type": "markdown",
   "id": "6a4f5fd0",
   "metadata": {},
   "source": [
    "### Dataset"
   ]
  },
  {
   "cell_type": "code",
   "execution_count": 7,
   "id": "dbbb728e",
   "metadata": {},
   "outputs": [
    {
     "data": {
      "text/plain": [
       "'/home/oslyris/.cache/kagglehub/datasets/shaorrran/coco-wikiart-nst-dataset-512-100000/versions/1'"
      ]
     },
     "execution_count": 7,
     "metadata": {},
     "output_type": "execute_result"
    }
   ],
   "source": [
    "path_to_dataset = kagglehub.dataset_download(\"shaorrran/coco-wikiart-nst-dataset-512-100000\")\n",
    "path_to_dataset"
   ]
  },
  {
   "cell_type": "code",
   "execution_count": 8,
   "id": "df2379fb",
   "metadata": {},
   "outputs": [
    {
     "name": "stdout",
     "output_type": "stream",
     "text": [
      "Found 49981 files.\n"
     ]
    },
    {
     "name": "stderr",
     "output_type": "stream",
     "text": [
      "I0000 00:00:1749288540.911307   78259 gpu_device.cc:2022] Created device /job:localhost/replica:0/task:0/device:GPU:0 with 3539 MB memory:  -> device: 0, name: NVIDIA GeForce RTX 4050 Laptop GPU, pci bus id: 0000:01:00.0, compute capability: 8.9\n"
     ]
    },
    {
     "name": "stdout",
     "output_type": "stream",
     "text": [
      "Found 49981 files.\n"
     ]
    }
   ],
   "source": [
    "content_data = tf.keras.preprocessing.image_dataset_from_directory(directory=path_to_dataset+\"/content/\",\n",
    "                                                                   labels=None,\n",
    "                                                                   label_mode=None,\n",
    "                                                                   color_mode=\"rgb\",\n",
    "                                                                   image_size=(IMAGE_SIZE, IMAGE_SIZE),\n",
    "                                                                   shuffle=True,\n",
    "                                                                   batch_size=batch_size)\n",
    "style_data = tf.keras.preprocessing.image_dataset_from_directory(directory=path_to_dataset+\"/style/\",\n",
    "                                                                 labels=None,\n",
    "                                                                 label_mode=None,\n",
    "                                                                 color_mode=\"rgb\",\n",
    "                                                                 image_size=(IMAGE_SIZE, IMAGE_SIZE),\n",
    "                                                                 shuffle=True,\n",
    "                                                                 batch_size=batch_size)"
   ]
  },
  {
   "cell_type": "code",
   "execution_count": 9,
   "id": "569479de",
   "metadata": {},
   "outputs": [],
   "source": [
    "# normalization layer to rescale\n",
    "normalization_layer = Rescaling(1/255.)\n",
    "\n",
    "# combinbing and rescaling datasets with parallel processing and prefetching\n",
    "dataset = tf.data.Dataset.zip((content_data, style_data))\n",
    "dataset = dataset.map(lambda c, s: (normalization_layer(c), normalization_layer(s)), num_parallel_calls=tf.data.AUTOTUNE).prefetch(buffer_size=tf.data.AUTOTUNE)"
   ]
  },
  {
   "cell_type": "markdown",
   "id": "9246ece7",
   "metadata": {},
   "source": [
    "## Custom Layers"
   ]
  },
  {
   "cell_type": "markdown",
   "id": "edd2dd39",
   "metadata": {},
   "source": [
    "### Adaptive Instance Normalization"
   ]
  },
  {
   "cell_type": "code",
   "execution_count": 10,
   "id": "6205981b",
   "metadata": {},
   "outputs": [],
   "source": [
    "class AdaptiveInstanceNormalization(tf.keras.layers.Layer):\n",
    "    def __init__(self, epsilon=1e-5, **kwargs):\n",
    "        super().__init__(**kwargs)\n",
    "        self.epsilon = epsilon\n",
    "    \n",
    "    def build(self, input_shape):\n",
    "        content_shape, style_shapes = input_shape\n",
    "        self.channel_convs = []\n",
    "        for shape in style_shapes:\n",
    "            if shape[-1] != content_shape[-1]:\n",
    "                conv = Conv2D(shape[-1], 1, padding='same', dtype='float32')\n",
    "                self.channel_convs.append(conv)\n",
    "            else:\n",
    "                self.channel_convs.append(None)\n",
    "        super().build(input_shape)\n",
    "    \n",
    "    def call(self, inputs):\n",
    "        content_features, style_features = inputs\n",
    "        stylized_features = []\n",
    "        \n",
    "        content_features = tf.cast(content_features, tf.float32)\n",
    "        \n",
    "        for i, style_feature in enumerate(style_features):\n",
    "            style_feature = tf.cast(style_feature, tf.float32)\n",
    "            target_height, target_width = tf.shape(style_feature)[1], tf.shape(style_feature)[2]\n",
    "            \n",
    "            resized_content = tf.image.resize(\n",
    "                content_features, [target_height, target_width], method='bilinear')\n",
    "            \n",
    "            if self.channel_convs[i] is not None:\n",
    "                resized_content = self.channel_convs[i](resized_content)\n",
    "            \n",
    "            content_mean, content_var = tf.nn.moments(\n",
    "                resized_content, axes=[1, 2], keepdims=True)\n",
    "            content_std = tf.sqrt(content_var + self.epsilon)\n",
    "            normalized_content = (resized_content - content_mean) / content_std\n",
    "            \n",
    "            style_mean, style_var = tf.nn.moments(\n",
    "                style_feature, axes=[1, 2], keepdims=True)\n",
    "            style_std = tf.sqrt(style_var + self.epsilon)\n",
    "            \n",
    "            stylized_feature = normalized_content * style_std + style_mean\n",
    "            stylized_features.append(stylized_feature)\n",
    "        \n",
    "        return stylized_features"
   ]
  },
  {
   "cell_type": "markdown",
   "id": "b516f51b",
   "metadata": {},
   "source": [
    "### Style and Content Feature Extractors"
   ]
  },
  {
   "cell_type": "code",
   "execution_count": 11,
   "id": "d9ab20f1",
   "metadata": {},
   "outputs": [],
   "source": [
    "base = tf.keras.applications.VGG19(weights=\"imagenet\", include_top=False)\n",
    "base.trainable = False\n",
    "content_output = [base.get_layer(layer).output for layer in content_layers]\n",
    "style_output = [base.get_layer(layer).output for layer in style_layers]\n",
    "content_extractor = tf.keras.Model(base.input, content_output)\n",
    "style_extractor = tf.keras.Model(base.input, style_output)"
   ]
  },
  {
   "cell_type": "code",
   "execution_count": 12,
   "id": "2787b04b",
   "metadata": {},
   "outputs": [],
   "source": [
    "# tf.keras.utils.plot_model(style_extractor, \"style_extractor.png\", show_shapes=True)"
   ]
  },
  {
   "cell_type": "code",
   "execution_count": 13,
   "id": "9c0a2eb8",
   "metadata": {},
   "outputs": [],
   "source": [
    "# tf.keras.utils.plot_model(content_extractor, \"content_extractor.png\", show_shapes=True)"
   ]
  },
  {
   "cell_type": "markdown",
   "id": "030ab964",
   "metadata": {},
   "source": [
    "### Resize Layer"
   ]
  },
  {
   "cell_type": "code",
   "execution_count": 14,
   "id": "f201cab1",
   "metadata": {},
   "outputs": [],
   "source": [
    "class ResizeLayer(tf.keras.layers.Layer):\n",
    "    def __init__(self, target_shape, method=\"bilinear\", **kwargs):\n",
    "        super().__init__(**kwargs)\n",
    "        self.target_shape = target_shape\n",
    "        self.method = method\n",
    "\n",
    "    def call(self, inputs):\n",
    "        return tf.image.resize(inputs, self.target_shape, method=self.method)"
   ]
  },
  {
   "cell_type": "markdown",
   "id": "f815e572",
   "metadata": {},
   "source": [
    "### Adaptive Convolutaion Layer"
   ]
  },
  {
   "cell_type": "code",
   "execution_count": 15,
   "id": "7dc92ccb",
   "metadata": {},
   "outputs": [],
   "source": [
    "class AdaptiveConv2D(tf.keras.layers.Layer):\n",
    "    def __init__(self, filters, kernel_size=3, **kwargs):\n",
    "        super().__init__(**kwargs)\n",
    "        self.filters = filters\n",
    "        self.kernel_size = kernel_size\n",
    "    \n",
    "    def build(self, input_shape):\n",
    "        stylized_shape, style_shape = input_shape\n",
    "        if stylized_shape[1:3] != style_shape[1:3]:\n",
    "            raise ValueError(\n",
    "                \"Content and style feature spatial dimensions must match\")\n",
    "        \n",
    "        self.style_encoder = Sequential([\n",
    "            Conv2D(64, 3, padding='same', activation='relu', dtype='float32'),\n",
    "            Conv2D(32, 3, padding='same', activation='relu', dtype='float32'),\n",
    "            tf.keras.layers.GlobalAveragePooling2D(),\n",
    "            tf.keras.layers.Dense(128, activation='relu', dtype='float32')\n",
    "        ])\n",
    "        self.kernel_predictor = tf.keras.layers.Dense(\n",
    "            self.filters * self.kernel_size * self.kernel_size * stylized_shape[-1],\n",
    "            kernel_initializer=tf.keras.initializers.RandomNormal(\n",
    "                mean=0., stddev=0.02),\n",
    "            dtype='float32'\n",
    "        )\n",
    "        super().build(input_shape)\n",
    "    \n",
    "    def call(self, inputs):\n",
    "        stylized_features, style_features = inputs\n",
    "        style_vector = self.style_encoder(style_features)\n",
    "        style_vector = style_vector[0:1]\n",
    "        weight = self.kernel_predictor(style_vector)\n",
    "        weight = tf.reshape(\n",
    "            weight, (self.kernel_size, self.kernel_size,\n",
    "                     stylized_features.shape[-1], self.filters))\n",
    "        output = tf.nn.conv2d(\n",
    "            stylized_features, weight, strides=1, padding=\"SAME\")\n",
    "        return output"
   ]
  },
  {
   "cell_type": "markdown",
   "id": "24e74896",
   "metadata": {},
   "source": [
    "### Decoder"
   ]
  },
  {
   "cell_type": "code",
   "execution_count": 16,
   "id": "96dae719",
   "metadata": {},
   "outputs": [],
   "source": [
    "def build_model():\n",
    "    input_shapes = [(256, 256, 64), (128, 128, 128), (64, 64, 256), (32, 32, 512)]\n",
    "    stylized_inputs = [tf.keras.Input(shape=shape, name=f\"stylized_input_{i+1}\") for i, shape in enumerate(input_shapes)]\n",
    "    style_inputs = [tf.keras.Input(shape=shape, name=f\"style_input_{i+1}\") for i, shape in enumerate(input_shapes)]\n",
    "    \n",
    "    block_outputs = []\n",
    "    \n",
    "    for i, (stylized_inputs, style_inputs) in enumerate(zip(stylized_inputs, style_inputs)):\n",
    "        block = AdaptiveConv2D(256, name=f\"block_{i+1}_AdaptiveConv2D\")([stylized_inputs, style_inputs])\n",
    "        block = tf.keras.layers.ReLU(name=f\"block_{i+1}_Activation\")(block)\n",
    "        block_outputs.append(block)\n",
    "        \n",
    "    target_shape = [256, 256]\n",
    "    concat_features = [ResizeLayer(target_shape, name=f\"block_{i+1}_resize\")(block) for i, block in enumerate(block_outputs)]\n",
    "    combined_features = tf.keras.layers.Concatenate(name=\"concatenate_blocks\")(concat_features)\n",
    "    \n",
    "    x = Conv2D(128, 3, padding=\"same\", activation=\"relu\", name=\"conv_1\")(combined_features)\n",
    "    x = Conv2D(64, 3, padding=\"same\", activation=\"relu\", name=\"conv_2\")(x)\n",
    "    x = Conv2D(3, 3, padding=\"same\", activation=\"sigmoid\", name=\"conv_3\")(x)\n",
    "    \n",
    "    return Model(inputs=stylized_inputs + style_inputs, outputs=x, name=\"NST_decoder\")\n",
    "    "
   ]
  },
  {
   "cell_type": "code",
   "execution_count": 17,
   "id": "b443a19d",
   "metadata": {},
   "outputs": [
    {
     "name": "stderr",
     "output_type": "stream",
     "text": [
      "2025-06-07 09:29:31.961431: W external/local_xla/xla/tsl/framework/bfc_allocator.cc:497] Allocator (GPU_0_bfc) ran out of memory trying to allocate 576.00MiB (rounded to 603979776)requested by op AddV2\n",
      "If the cause is memory fragmentation maybe the environment variable 'TF_GPU_ALLOCATOR=cuda_malloc_async' will improve the situation. \n",
      "Current allocation summary follows.\n",
      "Current allocation summary follows.\n",
      "2025-06-07 09:29:31.961527: I external/local_xla/xla/tsl/framework/bfc_allocator.cc:1053] BFCAllocator dump for GPU_0_bfc\n",
      "2025-06-07 09:29:31.961548: I external/local_xla/xla/tsl/framework/bfc_allocator.cc:1060] Bin (256): \tTotal Chunks: 52, Chunks in use: 52. 13.0KiB allocated for chunks. 13.0KiB in use in bin. 2.2KiB client-requested in use in bin.\n",
      "2025-06-07 09:29:31.961557: I external/local_xla/xla/tsl/framework/bfc_allocator.cc:1060] Bin (512): \tTotal Chunks: 6, Chunks in use: 6. 3.5KiB allocated for chunks. 3.5KiB in use in bin. 3.0KiB client-requested in use in bin.\n",
      "2025-06-07 09:29:31.961565: I external/local_xla/xla/tsl/framework/bfc_allocator.cc:1060] Bin (1024): \tTotal Chunks: 5, Chunks in use: 5. 5.2KiB allocated for chunks. 5.2KiB in use in bin. 5.0KiB client-requested in use in bin.\n",
      "2025-06-07 09:29:31.961573: I external/local_xla/xla/tsl/framework/bfc_allocator.cc:1060] Bin (2048): \tTotal Chunks: 8, Chunks in use: 8. 17.0KiB allocated for chunks. 17.0KiB in use in bin. 16.0KiB client-requested in use in bin.\n",
      "2025-06-07 09:29:31.961580: I external/local_xla/xla/tsl/framework/bfc_allocator.cc:1060] Bin (4096): \tTotal Chunks: 1, Chunks in use: 1. 6.8KiB allocated for chunks. 6.8KiB in use in bin. 6.8KiB client-requested in use in bin.\n",
      "2025-06-07 09:29:31.961588: I external/local_xla/xla/tsl/framework/bfc_allocator.cc:1060] Bin (8192): \tTotal Chunks: 1, Chunks in use: 0. 15.2KiB allocated for chunks. 0B in use in bin. 0B client-requested in use in bin.\n",
      "2025-06-07 09:29:31.961596: I external/local_xla/xla/tsl/framework/bfc_allocator.cc:1060] Bin (16384): \tTotal Chunks: 5, Chunks in use: 4. 88.0KiB allocated for chunks. 64.0KiB in use in bin. 64.0KiB client-requested in use in bin.\n",
      "2025-06-07 09:29:31.961603: I external/local_xla/xla/tsl/framework/bfc_allocator.cc:1060] Bin (32768): \tTotal Chunks: 1, Chunks in use: 0. 56.0KiB allocated for chunks. 0B in use in bin. 0B client-requested in use in bin.\n",
      "2025-06-07 09:29:31.961610: I external/local_xla/xla/tsl/framework/bfc_allocator.cc:1060] Bin (65536): \tTotal Chunks: 4, Chunks in use: 4. 288.0KiB allocated for chunks. 288.0KiB in use in bin. 288.0KiB client-requested in use in bin.\n",
      "2025-06-07 09:29:31.961618: I external/local_xla/xla/tsl/framework/bfc_allocator.cc:1060] Bin (131072): \tTotal Chunks: 2, Chunks in use: 1. 272.0KiB allocated for chunks. 144.0KiB in use in bin. 144.0KiB client-requested in use in bin.\n",
      "2025-06-07 09:29:31.961625: I external/local_xla/xla/tsl/framework/bfc_allocator.cc:1060] Bin (262144): \tTotal Chunks: 4, Chunks in use: 3. 1.25MiB allocated for chunks. 989.2KiB in use in bin. 720.0KiB client-requested in use in bin.\n",
      "2025-06-07 09:29:31.961632: I external/local_xla/xla/tsl/framework/bfc_allocator.cc:1060] Bin (524288): \tTotal Chunks: 3, Chunks in use: 3. 1.69MiB allocated for chunks. 1.69MiB in use in bin. 1.69MiB client-requested in use in bin.\n",
      "2025-06-07 09:29:31.961639: I external/local_xla/xla/tsl/framework/bfc_allocator.cc:1060] Bin (1048576): \tTotal Chunks: 5, Chunks in use: 3. 6.26MiB allocated for chunks. 4.01MiB in use in bin. 3.38MiB client-requested in use in bin.\n",
      "2025-06-07 09:29:31.961647: I external/local_xla/xla/tsl/framework/bfc_allocator.cc:1060] Bin (2097152): \tTotal Chunks: 4, Chunks in use: 4. 10.25MiB allocated for chunks. 10.25MiB in use in bin. 9.00MiB client-requested in use in bin.\n",
      "2025-06-07 09:29:31.961654: I external/local_xla/xla/tsl/framework/bfc_allocator.cc:1060] Bin (4194304): \tTotal Chunks: 1, Chunks in use: 1. 4.50MiB allocated for chunks. 4.50MiB in use in bin. 4.50MiB client-requested in use in bin.\n",
      "2025-06-07 09:29:31.961661: I external/local_xla/xla/tsl/framework/bfc_allocator.cc:1060] Bin (8388608): \tTotal Chunks: 6, Chunks in use: 6. 63.50MiB allocated for chunks. 63.50MiB in use in bin. 54.00MiB client-requested in use in bin.\n",
      "2025-06-07 09:29:31.961669: I external/local_xla/xla/tsl/framework/bfc_allocator.cc:1060] Bin (16777216): \tTotal Chunks: 2, Chunks in use: 1. 37.81MiB allocated for chunks. 16.00MiB in use in bin. 9.00MiB client-requested in use in bin.\n",
      "2025-06-07 09:29:31.961675: I external/local_xla/xla/tsl/framework/bfc_allocator.cc:1060] Bin (33554432): \tTotal Chunks: 0, Chunks in use: 0. 0B allocated for chunks. 0B in use in bin. 0B client-requested in use in bin.\n",
      "2025-06-07 09:29:31.961683: I external/local_xla/xla/tsl/framework/bfc_allocator.cc:1060] Bin (67108864): \tTotal Chunks: 3, Chunks in use: 1. 256.00MiB allocated for chunks. 72.00MiB in use in bin. 72.00MiB client-requested in use in bin.\n",
      "2025-06-07 09:29:31.961690: I external/local_xla/xla/tsl/framework/bfc_allocator.cc:1060] Bin (134217728): \tTotal Chunks: 2, Chunks in use: 1. 352.00MiB allocated for chunks. 224.00MiB in use in bin. 144.00MiB client-requested in use in bin.\n",
      "2025-06-07 09:29:31.961700: I external/local_xla/xla/tsl/framework/bfc_allocator.cc:1060] Bin (268435456): \tTotal Chunks: 7, Chunks in use: 3. 2.74GiB allocated for chunks. 1.41GiB in use in bin. 1.41GiB client-requested in use in bin.\n",
      "2025-06-07 09:29:31.961707: I external/local_xla/xla/tsl/framework/bfc_allocator.cc:1076] Bin for 576.00MiB was 256.00MiB, Chunk State: \n",
      "2025-06-07 09:29:31.961720: I external/local_xla/xla/tsl/framework/bfc_allocator.cc:1082]   Size: 288.00MiB | Requested Size: 288.00MiB | in_use: 0 | bin_num: 20, next:   Size: 224.00MiB | Requested Size: 144.00MiB | in_use: 1 | bin_num: -1\n",
      "2025-06-07 09:29:31.961728: I external/local_xla/xla/tsl/framework/bfc_allocator.cc:1082]   Size: 288.00MiB | Requested Size: 288.00MiB | in_use: 0 | bin_num: 20, next:   Size: 288.00MiB | Requested Size: 288.00MiB | in_use: 1 | bin_num: -1\n",
      "2025-06-07 09:29:31.961736: I external/local_xla/xla/tsl/framework/bfc_allocator.cc:1082]   Size: 341.00MiB | Requested Size: 0B | in_use: 0 | bin_num: 20, prev:   Size: 576.00MiB | Requested Size: 576.00MiB | in_use: 1 | bin_num: -1\n",
      "2025-06-07 09:29:31.961743: I external/local_xla/xla/tsl/framework/bfc_allocator.cc:1082]   Size: 448.00MiB | Requested Size: 0B | in_use: 0 | bin_num: 20, prev:   Size: 288.00MiB | Requested Size: 288.00MiB | in_use: 1 | bin_num: -1\n",
      "2025-06-07 09:29:31.961778: I external/local_xla/xla/tsl/framework/bfc_allocator.cc:1089] Next region of size 2097152\n",
      "2025-06-07 09:29:31.961792: I external/local_xla/xla/tsl/framework/bfc_allocator.cc:1109] InUse at 504a00000 of size 1280 next 1\n",
      "2025-06-07 09:29:31.961798: I external/local_xla/xla/tsl/framework/bfc_allocator.cc:1109] InUse at 504a00500 of size 256 next 2\n",
      "2025-06-07 09:29:31.961803: I external/local_xla/xla/tsl/framework/bfc_allocator.cc:1109] InUse at 504a00600 of size 256 next 3\n",
      "2025-06-07 09:29:31.961808: I external/local_xla/xla/tsl/framework/bfc_allocator.cc:1109] InUse at 504a00700 of size 256 next 4\n",
      "2025-06-07 09:29:31.961813: I external/local_xla/xla/tsl/framework/bfc_allocator.cc:1109] InUse at 504a00800 of size 256 next 5\n",
      "2025-06-07 09:29:31.961818: I external/local_xla/xla/tsl/framework/bfc_allocator.cc:1109] InUse at 504a00900 of size 256 next 6\n",
      "2025-06-07 09:29:31.961823: I external/local_xla/xla/tsl/framework/bfc_allocator.cc:1109] InUse at 504a00a00 of size 256 next 7\n",
      "2025-06-07 09:29:31.961828: I external/local_xla/xla/tsl/framework/bfc_allocator.cc:1109] InUse at 504a00b00 of size 256 next 8\n",
      "2025-06-07 09:29:31.961833: I external/local_xla/xla/tsl/framework/bfc_allocator.cc:1109] InUse at 504a00c00 of size 256 next 9\n",
      "2025-06-07 09:29:31.961842: I external/local_xla/xla/tsl/framework/bfc_allocator.cc:1109] InUse at 504a00d00 of size 256 next 10\n",
      "2025-06-07 09:29:31.961854: I external/local_xla/xla/tsl/framework/bfc_allocator.cc:1109] InUse at 504a00e00 of size 256 next 11\n",
      "2025-06-07 09:29:31.961868: I external/local_xla/xla/tsl/framework/bfc_allocator.cc:1109] InUse at 504a00f00 of size 256 next 12\n",
      "2025-06-07 09:29:31.961876: I external/local_xla/xla/tsl/framework/bfc_allocator.cc:1109] InUse at 504a01000 of size 256 next 13\n",
      "2025-06-07 09:29:31.961886: I external/local_xla/xla/tsl/framework/bfc_allocator.cc:1109] InUse at 504a01100 of size 256 next 14\n",
      "2025-06-07 09:29:31.961899: I external/local_xla/xla/tsl/framework/bfc_allocator.cc:1109] InUse at 504a01200 of size 256 next 15\n",
      "2025-06-07 09:29:31.961914: I external/local_xla/xla/tsl/framework/bfc_allocator.cc:1109] InUse at 504a01300 of size 256 next 16\n",
      "2025-06-07 09:29:31.961921: I external/local_xla/xla/tsl/framework/bfc_allocator.cc:1109] InUse at 504a01400 of size 256 next 18\n",
      "2025-06-07 09:29:31.961929: I external/local_xla/xla/tsl/framework/bfc_allocator.cc:1109] InUse at 504a01500 of size 256 next 19\n",
      "2025-06-07 09:29:31.961942: I external/local_xla/xla/tsl/framework/bfc_allocator.cc:1109] InUse at 504a01600 of size 256 next 17\n",
      "2025-06-07 09:29:31.961956: I external/local_xla/xla/tsl/framework/bfc_allocator.cc:1109] InUse at 504a01700 of size 256 next 20\n",
      "2025-06-07 09:29:31.961967: I external/local_xla/xla/tsl/framework/bfc_allocator.cc:1109] InUse at 504a01800 of size 256 next 25\n",
      "2025-06-07 09:29:31.961975: I external/local_xla/xla/tsl/framework/bfc_allocator.cc:1109] InUse at 504a01900 of size 256 next 23\n",
      "2025-06-07 09:29:31.961983: I external/local_xla/xla/tsl/framework/bfc_allocator.cc:1109] InUse at 504a01a00 of size 512 next 24\n",
      "2025-06-07 09:29:31.961992: I external/local_xla/xla/tsl/framework/bfc_allocator.cc:1109] InUse at 504a01c00 of size 256 next 28\n",
      "2025-06-07 09:29:31.962000: I external/local_xla/xla/tsl/framework/bfc_allocator.cc:1109] InUse at 504a01d00 of size 256 next 29\n",
      "2025-06-07 09:29:31.962008: I external/local_xla/xla/tsl/framework/bfc_allocator.cc:1109] InUse at 504a01e00 of size 256 next 72\n",
      "2025-06-07 09:29:31.962015: I external/local_xla/xla/tsl/framework/bfc_allocator.cc:1109] InUse at 504a01f00 of size 256 next 32\n",
      "2025-06-07 09:29:31.962024: I external/local_xla/xla/tsl/framework/bfc_allocator.cc:1109] InUse at 504a02000 of size 256 next 33\n",
      "2025-06-07 09:29:31.962032: I external/local_xla/xla/tsl/framework/bfc_allocator.cc:1109] InUse at 504a02100 of size 256 next 34\n",
      "2025-06-07 09:29:31.962040: I external/local_xla/xla/tsl/framework/bfc_allocator.cc:1109] InUse at 504a02200 of size 1024 next 38\n",
      "2025-06-07 09:29:31.962048: I external/local_xla/xla/tsl/framework/bfc_allocator.cc:1109] InUse at 504a02600 of size 256 next 41\n",
      "2025-06-07 09:29:31.962056: I external/local_xla/xla/tsl/framework/bfc_allocator.cc:1109] InUse at 504a02700 of size 256 next 39\n",
      "2025-06-07 09:29:31.962064: I external/local_xla/xla/tsl/framework/bfc_allocator.cc:1109] InUse at 504a02800 of size 1024 next 40\n",
      "2025-06-07 09:29:31.962072: I external/local_xla/xla/tsl/framework/bfc_allocator.cc:1109] InUse at 504a02c00 of size 1024 next 45\n",
      "2025-06-07 09:29:31.962080: I external/local_xla/xla/tsl/framework/bfc_allocator.cc:1109] InUse at 504a03000 of size 256 next 61\n",
      "2025-06-07 09:29:31.962088: I external/local_xla/xla/tsl/framework/bfc_allocator.cc:1109] InUse at 504a03100 of size 256 next 75\n",
      "2025-06-07 09:29:31.962097: I external/local_xla/xla/tsl/framework/bfc_allocator.cc:1109] InUse at 504a03200 of size 256 next 73\n",
      "2025-06-07 09:29:31.962106: I external/local_xla/xla/tsl/framework/bfc_allocator.cc:1109] InUse at 504a03300 of size 256 next 44\n",
      "2025-06-07 09:29:31.962124: I external/local_xla/xla/tsl/framework/bfc_allocator.cc:1109] InUse at 504a03400 of size 256 next 49\n",
      "2025-06-07 09:29:31.962134: I external/local_xla/xla/tsl/framework/bfc_allocator.cc:1109] InUse at 504a03500 of size 256 next 48\n",
      "2025-06-07 09:29:31.962144: I external/local_xla/xla/tsl/framework/bfc_allocator.cc:1109] InUse at 504a03600 of size 2048 next 52\n",
      "2025-06-07 09:29:31.962152: I external/local_xla/xla/tsl/framework/bfc_allocator.cc:1109] InUse at 504a03e00 of size 256 next 55\n",
      "2025-06-07 09:29:31.962160: I external/local_xla/xla/tsl/framework/bfc_allocator.cc:1109] InUse at 504a03f00 of size 256 next 53\n",
      "2025-06-07 09:29:31.962168: I external/local_xla/xla/tsl/framework/bfc_allocator.cc:1109] InUse at 504a04000 of size 256 next 82\n",
      "2025-06-07 09:29:31.962176: I external/local_xla/xla/tsl/framework/bfc_allocator.cc:1109] InUse at 504a04100 of size 256 next 88\n",
      "2025-06-07 09:29:31.962184: I external/local_xla/xla/tsl/framework/bfc_allocator.cc:1109] InUse at 504a04200 of size 256 next 96\n",
      "2025-06-07 09:29:31.962192: I external/local_xla/xla/tsl/framework/bfc_allocator.cc:1109] InUse at 504a04300 of size 256 next 92\n",
      "2025-06-07 09:29:31.962200: I external/local_xla/xla/tsl/framework/bfc_allocator.cc:1109] InUse at 504a04400 of size 512 next 102\n",
      "2025-06-07 09:29:31.962208: I external/local_xla/xla/tsl/framework/bfc_allocator.cc:1109] InUse at 504a04600 of size 256 next 105\n",
      "2025-06-07 09:29:31.962216: I external/local_xla/xla/tsl/framework/bfc_allocator.cc:1109] InUse at 504a04700 of size 256 next 99\n",
      "2025-06-07 09:29:31.962224: I external/local_xla/xla/tsl/framework/bfc_allocator.cc:1109] InUse at 504a04800 of size 256 next 109\n",
      "2025-06-07 09:29:31.962233: I external/local_xla/xla/tsl/framework/bfc_allocator.cc:1109] InUse at 504a04900 of size 256 next 111\n",
      "2025-06-07 09:29:31.962242: I external/local_xla/xla/tsl/framework/bfc_allocator.cc:1109] InUse at 504a04a00 of size 768 next 21\n",
      "2025-06-07 09:29:31.962250: I external/local_xla/xla/tsl/framework/bfc_allocator.cc:1109] InUse at 504a04d00 of size 256 next 69\n",
      "2025-06-07 09:29:31.962258: I external/local_xla/xla/tsl/framework/bfc_allocator.cc:1109] InUse at 504a04e00 of size 512 next 30\n",
      "2025-06-07 09:29:31.962267: I external/local_xla/xla/tsl/framework/bfc_allocator.cc:1109] InUse at 504a05000 of size 1024 next 43\n",
      "2025-06-07 09:29:31.962275: I external/local_xla/xla/tsl/framework/bfc_allocator.cc:1109] InUse at 504a05400 of size 2048 next 57\n",
      "2025-06-07 09:29:31.962283: I external/local_xla/xla/tsl/framework/bfc_allocator.cc:1109] InUse at 504a05c00 of size 3072 next 22\n",
      "2025-06-07 09:29:31.962292: I external/local_xla/xla/tsl/framework/bfc_allocator.cc:1109] InUse at 504a06800 of size 2048 next 56\n",
      "2025-06-07 09:29:31.962302: I external/local_xla/xla/tsl/framework/bfc_allocator.cc:1109] InUse at 504a07000 of size 2048 next 54\n",
      "2025-06-07 09:29:31.962310: I external/local_xla/xla/tsl/framework/bfc_allocator.cc:1109] InUse at 504a07800 of size 2048 next 58\n",
      "2025-06-07 09:29:31.962319: I external/local_xla/xla/tsl/framework/bfc_allocator.cc:1109] InUse at 504a08000 of size 2048 next 62\n",
      "2025-06-07 09:29:31.962328: I external/local_xla/xla/tsl/framework/bfc_allocator.cc:1109] InUse at 504a08800 of size 2048 next 65\n",
      "2025-06-07 09:29:31.962343: I external/local_xla/xla/tsl/framework/bfc_allocator.cc:1109] InUse at 504a09000 of size 512 next 79\n",
      "2025-06-07 09:29:31.962357: I external/local_xla/xla/tsl/framework/bfc_allocator.cc:1109] InUse at 504a09200 of size 256 next 74\n",
      "2025-06-07 09:29:31.962366: I external/local_xla/xla/tsl/framework/bfc_allocator.cc:1109] InUse at 504a09300 of size 256 next 83\n",
      "2025-06-07 09:29:31.962384: I external/local_xla/xla/tsl/framework/bfc_allocator.cc:1109] InUse at 504a09400 of size 256 next 89\n",
      "2025-06-07 09:29:31.962394: I external/local_xla/xla/tsl/framework/bfc_allocator.cc:1109] InUse at 504a09500 of size 768 next 67\n",
      "2025-06-07 09:29:31.962400: I external/local_xla/xla/tsl/framework/bfc_allocator.cc:1109] InUse at 504a09800 of size 6912 next 71\n",
      "2025-06-07 09:29:31.962406: I external/local_xla/xla/tsl/framework/bfc_allocator.cc:1109] InUse at 504a0b300 of size 275712 next 27\n",
      "2025-06-07 09:29:31.962413: I external/local_xla/xla/tsl/framework/bfc_allocator.cc:1109] InUse at 504a4e800 of size 442368 next 31\n",
      "2025-06-07 09:29:31.962420: I external/local_xla/xla/tsl/framework/bfc_allocator.cc:1109] InUse at 504aba800 of size 1333248 next 18446744073709551615\n",
      "2025-06-07 09:29:31.962426: I external/local_xla/xla/tsl/framework/bfc_allocator.cc:1089] Next region of size 4194304\n",
      "2025-06-07 09:29:31.962432: I external/local_xla/xla/tsl/framework/bfc_allocator.cc:1109] InUse at 504e00000 of size 589824 next 37\n",
      "2025-06-07 09:29:31.962440: I external/local_xla/xla/tsl/framework/bfc_allocator.cc:1109] InUse at 504e90000 of size 16384 next 104\n",
      "2025-06-07 09:29:31.962448: I external/local_xla/xla/tsl/framework/bfc_allocator.cc:1109] Free  at 504e94000 of size 131072 next 76\n",
      "2025-06-07 09:29:31.962455: I external/local_xla/xla/tsl/framework/bfc_allocator.cc:1109] InUse at 504eb4000 of size 73728 next 77\n",
      "2025-06-07 09:29:31.962461: I external/local_xla/xla/tsl/framework/bfc_allocator.cc:1109] InUse at 504ec6000 of size 256 next 110\n",
      "2025-06-07 09:29:31.962467: I external/local_xla/xla/tsl/framework/bfc_allocator.cc:1109] InUse at 504ec6100 of size 256 next 114\n",
      "2025-06-07 09:29:31.962473: I external/local_xla/xla/tsl/framework/bfc_allocator.cc:1109] InUse at 504ec6200 of size 256 next 117\n",
      "2025-06-07 09:29:31.962478: I external/local_xla/xla/tsl/framework/bfc_allocator.cc:1109] Free  at 504ec6300 of size 15616 next 94\n",
      "2025-06-07 09:29:31.962484: I external/local_xla/xla/tsl/framework/bfc_allocator.cc:1109] InUse at 504eca000 of size 16384 next 81\n",
      "2025-06-07 09:29:31.962492: I external/local_xla/xla/tsl/framework/bfc_allocator.cc:1109] InUse at 504ece000 of size 16384 next 80\n",
      "2025-06-07 09:29:31.962498: I external/local_xla/xla/tsl/framework/bfc_allocator.cc:1109] Free  at 504ed2000 of size 24576 next 26\n",
      "2025-06-07 09:29:31.962504: I external/local_xla/xla/tsl/framework/bfc_allocator.cc:1109] InUse at 504ed8000 of size 147456 next 35\n",
      "2025-06-07 09:29:31.962510: I external/local_xla/xla/tsl/framework/bfc_allocator.cc:1109] InUse at 504efc000 of size 589824 next 78\n",
      "2025-06-07 09:29:31.962516: I external/local_xla/xla/tsl/framework/bfc_allocator.cc:1109] InUse at 504f8c000 of size 73728 next 93\n",
      "2025-06-07 09:29:31.962522: I external/local_xla/xla/tsl/framework/bfc_allocator.cc:1109] InUse at 504f9e000 of size 73728 next 103\n",
      "2025-06-07 09:29:31.962527: I external/local_xla/xla/tsl/framework/bfc_allocator.cc:1109] InUse at 504fb0000 of size 16384 next 118\n",
      "2025-06-07 09:29:31.962533: I external/local_xla/xla/tsl/framework/bfc_allocator.cc:1109] Free  at 504fb4000 of size 57344 next 115\n",
      "2025-06-07 09:29:31.962539: I external/local_xla/xla/tsl/framework/bfc_allocator.cc:1109] InUse at 504fc2000 of size 73728 next 116\n",
      "2025-06-07 09:29:31.962545: I external/local_xla/xla/tsl/framework/bfc_allocator.cc:1109] Free  at 504fd4000 of size 294912 next 91\n",
      "2025-06-07 09:29:31.962552: I external/local_xla/xla/tsl/framework/bfc_allocator.cc:1109] InUse at 50501c000 of size 294912 next 90\n",
      "2025-06-07 09:29:31.962558: I external/local_xla/xla/tsl/framework/bfc_allocator.cc:1109] InUse at 505064000 of size 1687552 next 18446744073709551615\n",
      "2025-06-07 09:29:31.962564: I external/local_xla/xla/tsl/framework/bfc_allocator.cc:1089] Next region of size 8388608\n",
      "2025-06-07 09:29:31.962569: I external/local_xla/xla/tsl/framework/bfc_allocator.cc:1109] InUse at 505200000 of size 2359296 next 47\n",
      "2025-06-07 09:29:31.962575: I external/local_xla/xla/tsl/framework/bfc_allocator.cc:1109] InUse at 505440000 of size 3538944 next 46\n",
      "2025-06-07 09:29:31.962582: I external/local_xla/xla/tsl/framework/bfc_allocator.cc:1109] InUse at 5057a0000 of size 2490368 next 18446744073709551615\n",
      "2025-06-07 09:29:31.962587: I external/local_xla/xla/tsl/framework/bfc_allocator.cc:1089] Next region of size 16777216\n",
      "2025-06-07 09:29:31.962593: I external/local_xla/xla/tsl/framework/bfc_allocator.cc:1109] InUse at 505a00000 of size 16777216 next 18446744073709551615\n",
      "2025-06-07 09:29:31.962599: I external/local_xla/xla/tsl/framework/bfc_allocator.cc:1089] Next region of size 33554432\n",
      "2025-06-07 09:29:31.962604: I external/local_xla/xla/tsl/framework/bfc_allocator.cc:1109] InUse at 506a00000 of size 4718592 next 51\n",
      "2025-06-07 09:29:31.962611: I external/local_xla/xla/tsl/framework/bfc_allocator.cc:1109] InUse at 506e80000 of size 14155776 next 59\n",
      "2025-06-07 09:29:31.962617: I external/local_xla/xla/tsl/framework/bfc_allocator.cc:1109] InUse at 507c00000 of size 14680064 next 18446744073709551615\n",
      "2025-06-07 09:29:31.962623: I external/local_xla/xla/tsl/framework/bfc_allocator.cc:1089] Next region of size 67108864\n",
      "2025-06-07 09:29:31.962628: I external/local_xla/xla/tsl/framework/bfc_allocator.cc:1109] InUse at 508a00000 of size 9437184 next 64\n",
      "2025-06-07 09:29:31.962635: I external/local_xla/xla/tsl/framework/bfc_allocator.cc:1109] InUse at 509300000 of size 9437184 next 66\n",
      "2025-06-07 09:29:31.962641: I external/local_xla/xla/tsl/framework/bfc_allocator.cc:1109] InUse at 509c00000 of size 9437184 next 68\n",
      "2025-06-07 09:29:31.962647: I external/local_xla/xla/tsl/framework/bfc_allocator.cc:1109] InUse at 50a500000 of size 9437184 next 70\n",
      "2025-06-07 09:29:31.962652: I external/local_xla/xla/tsl/framework/bfc_allocator.cc:1109] Free  at 50ae00000 of size 1179648 next 101\n",
      "2025-06-07 09:29:31.962658: I external/local_xla/xla/tsl/framework/bfc_allocator.cc:1109] InUse at 50af20000 of size 589824 next 100\n",
      "2025-06-07 09:29:31.962664: I external/local_xla/xla/tsl/framework/bfc_allocator.cc:1109] InUse at 50afb0000 of size 2359296 next 98\n",
      "2025-06-07 09:29:31.962670: I external/local_xla/xla/tsl/framework/bfc_allocator.cc:1109] Free  at 50b1f0000 of size 1179648 next 113\n",
      "2025-06-07 09:29:31.962676: I external/local_xla/xla/tsl/framework/bfc_allocator.cc:1109] InUse at 50b310000 of size 1179648 next 112\n",
      "2025-06-07 09:29:31.962682: I external/local_xla/xla/tsl/framework/bfc_allocator.cc:1109] Free  at 50b430000 of size 22872064 next 18446744073709551615\n",
      "2025-06-07 09:29:31.962688: I external/local_xla/xla/tsl/framework/bfc_allocator.cc:1089] Next region of size 134217728\n",
      "2025-06-07 09:29:31.962693: I external/local_xla/xla/tsl/framework/bfc_allocator.cc:1109] Free  at 50ca00000 of size 134217728 next 18446744073709551615\n",
      "2025-06-07 09:29:31.962699: I external/local_xla/xla/tsl/framework/bfc_allocator.cc:1089] Next region of size 268435456\n",
      "2025-06-07 09:29:31.962704: I external/local_xla/xla/tsl/framework/bfc_allocator.cc:1109] Free  at 514a00000 of size 75497472 next 86\n",
      "2025-06-07 09:29:31.962710: I external/local_xla/xla/tsl/framework/bfc_allocator.cc:1109] InUse at 519200000 of size 75497472 next 87\n",
      "2025-06-07 09:29:31.962716: I external/local_xla/xla/tsl/framework/bfc_allocator.cc:1109] Free  at 51da00000 of size 117440512 next 18446744073709551615\n",
      "2025-06-07 09:29:31.962722: I external/local_xla/xla/tsl/framework/bfc_allocator.cc:1089] Next region of size 536870912\n",
      "2025-06-07 09:29:31.962727: I external/local_xla/xla/tsl/framework/bfc_allocator.cc:1109] Free  at 524a00000 of size 301989888 next 97\n",
      "2025-06-07 09:29:31.962733: I external/local_xla/xla/tsl/framework/bfc_allocator.cc:1109] InUse at 536a00000 of size 234881024 next 18446744073709551615\n",
      "2025-06-07 09:29:31.962739: I external/local_xla/xla/tsl/framework/bfc_allocator.cc:1089] Next region of size 1073741824\n",
      "2025-06-07 09:29:31.962744: I external/local_xla/xla/tsl/framework/bfc_allocator.cc:1109] Free  at 544a00000 of size 301989888 next 107\n",
      "2025-06-07 09:29:31.962751: I external/local_xla/xla/tsl/framework/bfc_allocator.cc:1109] InUse at 556a00000 of size 301989888 next 108\n",
      "2025-06-07 09:29:31.962757: I external/local_xla/xla/tsl/framework/bfc_allocator.cc:1109] Free  at 568a00000 of size 469762048 next 18446744073709551615\n",
      "2025-06-07 09:29:31.962766: I external/local_xla/xla/tsl/framework/bfc_allocator.cc:1089] Next region of size 1565523968\n",
      "2025-06-07 09:29:31.962782: I external/local_xla/xla/tsl/framework/bfc_allocator.cc:1109] InUse at 584a00000 of size 603979776 next 120\n",
      "2025-06-07 09:29:31.962794: I external/local_xla/xla/tsl/framework/bfc_allocator.cc:1109] InUse at 5a8a00000 of size 603979776 next 121\n",
      "2025-06-07 09:29:31.962803: I external/local_xla/xla/tsl/framework/bfc_allocator.cc:1109] Free  at 5cca00000 of size 357564416 next 18446744073709551615\n",
      "2025-06-07 09:29:31.962811: I external/local_xla/xla/tsl/framework/bfc_allocator.cc:1114]      Summary of in-use Chunks by size: \n",
      "2025-06-07 09:29:31.962824: I external/local_xla/xla/tsl/framework/bfc_allocator.cc:1117] 52 Chunks of size 256 totalling 13.0KiB\n",
      "2025-06-07 09:29:31.962835: I external/local_xla/xla/tsl/framework/bfc_allocator.cc:1117] 4 Chunks of size 512 totalling 2.0KiB\n",
      "2025-06-07 09:29:31.962843: I external/local_xla/xla/tsl/framework/bfc_allocator.cc:1117] 2 Chunks of size 768 totalling 1.5KiB\n",
      "2025-06-07 09:29:31.962851: I external/local_xla/xla/tsl/framework/bfc_allocator.cc:1117] 4 Chunks of size 1024 totalling 4.0KiB\n",
      "2025-06-07 09:29:31.962860: I external/local_xla/xla/tsl/framework/bfc_allocator.cc:1117] 1 Chunks of size 1280 totalling 1.2KiB\n",
      "2025-06-07 09:29:31.962870: I external/local_xla/xla/tsl/framework/bfc_allocator.cc:1117] 7 Chunks of size 2048 totalling 14.0KiB\n",
      "2025-06-07 09:29:31.962879: I external/local_xla/xla/tsl/framework/bfc_allocator.cc:1117] 1 Chunks of size 3072 totalling 3.0KiB\n",
      "2025-06-07 09:29:31.962887: I external/local_xla/xla/tsl/framework/bfc_allocator.cc:1117] 1 Chunks of size 6912 totalling 6.8KiB\n",
      "2025-06-07 09:29:31.962896: I external/local_xla/xla/tsl/framework/bfc_allocator.cc:1117] 4 Chunks of size 16384 totalling 64.0KiB\n",
      "2025-06-07 09:29:31.962906: I external/local_xla/xla/tsl/framework/bfc_allocator.cc:1117] 4 Chunks of size 73728 totalling 288.0KiB\n",
      "2025-06-07 09:29:31.962915: I external/local_xla/xla/tsl/framework/bfc_allocator.cc:1117] 1 Chunks of size 147456 totalling 144.0KiB\n",
      "2025-06-07 09:29:31.962924: I external/local_xla/xla/tsl/framework/bfc_allocator.cc:1117] 1 Chunks of size 275712 totalling 269.2KiB\n",
      "2025-06-07 09:29:31.962934: I external/local_xla/xla/tsl/framework/bfc_allocator.cc:1117] 1 Chunks of size 294912 totalling 288.0KiB\n",
      "2025-06-07 09:29:31.962944: I external/local_xla/xla/tsl/framework/bfc_allocator.cc:1117] 1 Chunks of size 442368 totalling 432.0KiB\n",
      "2025-06-07 09:29:31.962954: I external/local_xla/xla/tsl/framework/bfc_allocator.cc:1117] 3 Chunks of size 589824 totalling 1.69MiB\n",
      "2025-06-07 09:29:31.962963: I external/local_xla/xla/tsl/framework/bfc_allocator.cc:1117] 1 Chunks of size 1179648 totalling 1.12MiB\n",
      "2025-06-07 09:29:31.962972: I external/local_xla/xla/tsl/framework/bfc_allocator.cc:1117] 1 Chunks of size 1333248 totalling 1.27MiB\n",
      "2025-06-07 09:29:31.962981: I external/local_xla/xla/tsl/framework/bfc_allocator.cc:1117] 1 Chunks of size 1687552 totalling 1.61MiB\n",
      "2025-06-07 09:29:31.962990: I external/local_xla/xla/tsl/framework/bfc_allocator.cc:1117] 2 Chunks of size 2359296 totalling 4.50MiB\n",
      "2025-06-07 09:29:31.962999: I external/local_xla/xla/tsl/framework/bfc_allocator.cc:1117] 1 Chunks of size 2490368 totalling 2.38MiB\n",
      "2025-06-07 09:29:31.963008: I external/local_xla/xla/tsl/framework/bfc_allocator.cc:1117] 1 Chunks of size 3538944 totalling 3.38MiB\n",
      "2025-06-07 09:29:31.963017: I external/local_xla/xla/tsl/framework/bfc_allocator.cc:1117] 1 Chunks of size 4718592 totalling 4.50MiB\n",
      "2025-06-07 09:29:31.963026: I external/local_xla/xla/tsl/framework/bfc_allocator.cc:1117] 4 Chunks of size 9437184 totalling 36.00MiB\n",
      "2025-06-07 09:29:31.963037: I external/local_xla/xla/tsl/framework/bfc_allocator.cc:1117] 1 Chunks of size 14155776 totalling 13.50MiB\n",
      "2025-06-07 09:29:31.963049: I external/local_xla/xla/tsl/framework/bfc_allocator.cc:1117] 1 Chunks of size 14680064 totalling 14.00MiB\n",
      "2025-06-07 09:29:31.963058: I external/local_xla/xla/tsl/framework/bfc_allocator.cc:1117] 1 Chunks of size 16777216 totalling 16.00MiB\n",
      "2025-06-07 09:29:31.963068: I external/local_xla/xla/tsl/framework/bfc_allocator.cc:1117] 1 Chunks of size 75497472 totalling 72.00MiB\n",
      "2025-06-07 09:29:31.963078: I external/local_xla/xla/tsl/framework/bfc_allocator.cc:1117] 1 Chunks of size 234881024 totalling 224.00MiB\n",
      "2025-06-07 09:29:31.963088: I external/local_xla/xla/tsl/framework/bfc_allocator.cc:1117] 1 Chunks of size 301989888 totalling 288.00MiB\n",
      "2025-06-07 09:29:31.963097: I external/local_xla/xla/tsl/framework/bfc_allocator.cc:1117] 2 Chunks of size 603979776 totalling 1.12GiB\n",
      "2025-06-07 09:29:31.963106: I external/local_xla/xla/tsl/framework/bfc_allocator.cc:1121] Sum Total of in-use chunks: 1.79GiB\n",
      "2025-06-07 09:29:31.963115: I external/local_xla/xla/tsl/framework/bfc_allocator.cc:1123] Total bytes in pool: 3710910464 memory_limit_: 3710910464 available bytes: 0 curr_region_allocation_bytes_: 4294967296\n",
      "2025-06-07 09:29:31.963131: I external/local_xla/xla/tsl/framework/bfc_allocator.cc:1128] Stats: \n",
      "Limit:                      3710910464\n",
      "InUse:                      1926693632\n",
      "MaxInUse:                   1926693632\n",
      "NumAllocs:                         424\n",
      "MaxAllocSize:                603979776\n",
      "Reserved:                            0\n",
      "PeakReserved:                        0\n",
      "LargestFreeBlock:                    0\n",
      "\n",
      "2025-06-07 09:29:31.963150: W external/local_xla/xla/tsl/framework/bfc_allocator.cc:508] ***______***__________*****xx________*********___________**********************************_________\n",
      "2025-06-07 09:29:31.963179: W tensorflow/core/framework/op_kernel.cc:1829] RESOURCE_EXHAUSTED: failed to allocate memory\n",
      "2025-06-07 09:29:31.963216: I tensorflow/core/framework/local_rendezvous.cc:405] Local rendezvous is aborting with status: RESOURCE_EXHAUSTED: failed to allocate memory\n"
     ]
    },
    {
     "ename": "TypeError",
     "evalue": "Exception encountered when calling AdaptiveConv2D.call().\n\n\u001b[1mResourceExhaustedError.__init__() missing 2 required positional arguments: 'op' and 'message'\u001b[0m\n\nArguments received by AdaptiveConv2D.call():\n  • args=(['<KerasTensor shape=(None, 32, 32, 512), dtype=float32, sparse=False, name=stylized_input_4>', '<KerasTensor shape=(None, 32, 32, 512), dtype=float32, sparse=False, name=style_input_4>'],)\n  • kwargs=<class 'inspect._empty'>",
     "output_type": "error",
     "traceback": [
      "\u001b[31m---------------------------------------------------------------------------\u001b[39m",
      "\u001b[31mTypeError\u001b[39m                                 Traceback (most recent call last)",
      "\u001b[36mCell\u001b[39m\u001b[36m \u001b[39m\u001b[32mIn[17]\u001b[39m\u001b[32m, line 1\u001b[39m\n\u001b[32m----> \u001b[39m\u001b[32m1\u001b[39m model = \u001b[43mbuild_model\u001b[49m\u001b[43m(\u001b[49m\u001b[43m)\u001b[49m\n",
      "\u001b[36mCell\u001b[39m\u001b[36m \u001b[39m\u001b[32mIn[16]\u001b[39m\u001b[32m, line 9\u001b[39m, in \u001b[36mbuild_model\u001b[39m\u001b[34m()\u001b[39m\n\u001b[32m      6\u001b[39m block_outputs = []\n\u001b[32m      8\u001b[39m \u001b[38;5;28;01mfor\u001b[39;00m i, (stylized_inputs, style_inputs) \u001b[38;5;129;01min\u001b[39;00m \u001b[38;5;28menumerate\u001b[39m(\u001b[38;5;28mzip\u001b[39m(stylized_inputs, style_inputs)):\n\u001b[32m----> \u001b[39m\u001b[32m9\u001b[39m     block = \u001b[43mAdaptiveConv2D\u001b[49m\u001b[43m(\u001b[49m\u001b[32;43m256\u001b[39;49m\u001b[43m,\u001b[49m\u001b[43m \u001b[49m\u001b[43mname\u001b[49m\u001b[43m=\u001b[49m\u001b[33;43mf\u001b[39;49m\u001b[33;43m\"\u001b[39;49m\u001b[33;43mblock_\u001b[39;49m\u001b[38;5;132;43;01m{\u001b[39;49;00m\u001b[43mi\u001b[49m\u001b[43m+\u001b[49m\u001b[32;43m1\u001b[39;49m\u001b[38;5;132;43;01m}\u001b[39;49;00m\u001b[33;43m_AdaptiveConv2D\u001b[39;49m\u001b[33;43m\"\u001b[39;49m\u001b[43m)\u001b[49m\u001b[43m(\u001b[49m\u001b[43m[\u001b[49m\u001b[43mstylized_inputs\u001b[49m\u001b[43m,\u001b[49m\u001b[43m \u001b[49m\u001b[43mstyle_inputs\u001b[49m\u001b[43m]\u001b[49m\u001b[43m)\u001b[49m\n\u001b[32m     10\u001b[39m     block = tf.keras.layers.ReLU(name=\u001b[33mf\u001b[39m\u001b[33m\"\u001b[39m\u001b[33mblock_\u001b[39m\u001b[38;5;132;01m{\u001b[39;00mi+\u001b[32m1\u001b[39m\u001b[38;5;132;01m}\u001b[39;00m\u001b[33m_Activation\u001b[39m\u001b[33m\"\u001b[39m)(block)\n\u001b[32m     11\u001b[39m     block_outputs.append(block)\n",
      "\u001b[36mFile \u001b[39m\u001b[32m~/imgCl/lib/python3.12/site-packages/keras/src/utils/traceback_utils.py:122\u001b[39m, in \u001b[36mfilter_traceback.<locals>.error_handler\u001b[39m\u001b[34m(*args, **kwargs)\u001b[39m\n\u001b[32m    119\u001b[39m     filtered_tb = _process_traceback_frames(e.__traceback__)\n\u001b[32m    120\u001b[39m     \u001b[38;5;66;03m# To get the full stack trace, call:\u001b[39;00m\n\u001b[32m    121\u001b[39m     \u001b[38;5;66;03m# `keras.config.disable_traceback_filtering()`\u001b[39;00m\n\u001b[32m--> \u001b[39m\u001b[32m122\u001b[39m     \u001b[38;5;28;01mraise\u001b[39;00m e.with_traceback(filtered_tb) \u001b[38;5;28;01mfrom\u001b[39;00m \u001b[38;5;28;01mNone\u001b[39;00m\n\u001b[32m    123\u001b[39m \u001b[38;5;28;01mfinally\u001b[39;00m:\n\u001b[32m    124\u001b[39m     \u001b[38;5;28;01mdel\u001b[39;00m filtered_tb\n",
      "\u001b[36mFile \u001b[39m\u001b[32m~/imgCl/lib/python3.12/site-packages/keras/src/ops/operation.py:80\u001b[39m, in \u001b[36mOperation.compute_output_spec\u001b[39m\u001b[34m(self, *args, **kwargs)\u001b[39m\n\u001b[32m     78\u001b[39m     \u001b[38;5;28;01mreturn\u001b[39;00m backend.compute_output_spec(\u001b[38;5;28mself\u001b[39m.call, *args, **kwargs)\n\u001b[32m     79\u001b[39m \u001b[38;5;28;01mexcept\u001b[39;00m \u001b[38;5;167;01mException\u001b[39;00m \u001b[38;5;28;01mas\u001b[39;00m e:\n\u001b[32m---> \u001b[39m\u001b[32m80\u001b[39m     new_e = \u001b[43me\u001b[49m\u001b[43m.\u001b[49m\u001b[34;43m__class__\u001b[39;49m\u001b[43m(\u001b[49m\n\u001b[32m     81\u001b[39m \u001b[43m        \u001b[49m\u001b[33;43m\"\u001b[39;49m\u001b[33;43mCould not automatically infer the output shape / dtype of \u001b[39;49m\u001b[33;43m\"\u001b[39;49m\n\u001b[32m     82\u001b[39m \u001b[43m        \u001b[49m\u001b[33;43mf\u001b[39;49m\u001b[33;43m\"\u001b[39;49m\u001b[33;43m'\u001b[39;49m\u001b[38;5;132;43;01m{\u001b[39;49;00m\u001b[38;5;28;43mself\u001b[39;49m\u001b[43m.\u001b[49m\u001b[43mname\u001b[49m\u001b[38;5;132;43;01m}\u001b[39;49;00m\u001b[33;43m'\u001b[39;49m\u001b[33;43m (of type \u001b[39;49m\u001b[38;5;132;43;01m{\u001b[39;49;00m\u001b[38;5;28;43mself\u001b[39;49m\u001b[43m.\u001b[49m\u001b[34;43m__class__\u001b[39;49m\u001b[43m.\u001b[49m\u001b[34;43m__name__\u001b[39;49m\u001b[38;5;132;43;01m}\u001b[39;49;00m\u001b[33;43m). \u001b[39;49m\u001b[33;43m\"\u001b[39;49m\n\u001b[32m     83\u001b[39m \u001b[43m        \u001b[49m\u001b[33;43mf\u001b[39;49m\u001b[33;43m\"\u001b[39;49m\u001b[33;43mEither the `\u001b[39;49m\u001b[38;5;132;43;01m{\u001b[39;49;00m\u001b[38;5;28;43mself\u001b[39;49m\u001b[43m.\u001b[49m\u001b[34;43m__class__\u001b[39;49m\u001b[43m.\u001b[49m\u001b[34;43m__name__\u001b[39;49m\u001b[38;5;132;43;01m}\u001b[39;49;00m\u001b[33;43m.call()` method \u001b[39;49m\u001b[33;43m\"\u001b[39;49m\n\u001b[32m     84\u001b[39m \u001b[43m        \u001b[49m\u001b[33;43mf\u001b[39;49m\u001b[33;43m\"\u001b[39;49m\u001b[33;43mis incorrect, or you need to implement the \u001b[39;49m\u001b[33;43m\"\u001b[39;49m\n\u001b[32m     85\u001b[39m \u001b[43m        \u001b[49m\u001b[33;43mf\u001b[39;49m\u001b[33;43m\"\u001b[39;49m\u001b[33;43m`\u001b[39;49m\u001b[38;5;132;43;01m{\u001b[39;49;00m\u001b[38;5;28;43mself\u001b[39;49m\u001b[43m.\u001b[49m\u001b[34;43m__class__\u001b[39;49m\u001b[43m.\u001b[49m\u001b[34;43m__name__\u001b[39;49m\u001b[38;5;132;43;01m}\u001b[39;49;00m\u001b[33;43m.compute_output_spec() / \u001b[39;49m\u001b[33;43m\"\u001b[39;49m\n\u001b[32m     86\u001b[39m \u001b[43m        \u001b[49m\u001b[33;43m\"\u001b[39;49m\u001b[33;43mcompute_output_shape()` method. \u001b[39;49m\u001b[33;43m\"\u001b[39;49m\n\u001b[32m     87\u001b[39m \u001b[43m        \u001b[49m\u001b[33;43mf\u001b[39;49m\u001b[33;43m\"\u001b[39;49m\u001b[33;43mError encountered:\u001b[39;49m\u001b[38;5;130;43;01m\\n\u001b[39;49;00m\u001b[38;5;130;43;01m\\n\u001b[39;49;00m\u001b[38;5;132;43;01m{\u001b[39;49;00m\u001b[43me\u001b[49m\u001b[38;5;132;43;01m}\u001b[39;49;00m\u001b[33;43m\"\u001b[39;49m\n\u001b[32m     88\u001b[39m \u001b[43m    \u001b[49m\u001b[43m)\u001b[49m\n\u001b[32m     89\u001b[39m     \u001b[38;5;28;01mraise\u001b[39;00m new_e.with_traceback(e.__traceback__) \u001b[38;5;28;01mfrom\u001b[39;00m \u001b[38;5;28;01mNone\u001b[39;00m\n",
      "\u001b[31mTypeError\u001b[39m: Exception encountered when calling AdaptiveConv2D.call().\n\n\u001b[1mResourceExhaustedError.__init__() missing 2 required positional arguments: 'op' and 'message'\u001b[0m\n\nArguments received by AdaptiveConv2D.call():\n  • args=(['<KerasTensor shape=(None, 32, 32, 512), dtype=float32, sparse=False, name=stylized_input_4>', '<KerasTensor shape=(None, 32, 32, 512), dtype=float32, sparse=False, name=style_input_4>'],)\n  • kwargs=<class 'inspect._empty'>"
     ]
    }
   ],
   "source": [
    "model = build_model()"
   ]
  },
  {
   "cell_type": "code",
   "execution_count": null,
   "id": "cc0e6277",
   "metadata": {},
   "outputs": [],
   "source": []
  }
 ],
 "metadata": {
  "kernelspec": {
   "display_name": "imgCl",
   "language": "python",
   "name": "python3"
  },
  "language_info": {
   "codemirror_mode": {
    "name": "ipython",
    "version": 3
   },
   "file_extension": ".py",
   "mimetype": "text/x-python",
   "name": "python",
   "nbconvert_exporter": "python",
   "pygments_lexer": "ipython3",
   "version": "3.12.3"
  }
 },
 "nbformat": 4,
 "nbformat_minor": 5
}
