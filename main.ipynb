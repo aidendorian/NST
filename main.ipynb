{
 "cells": [
  {
   "cell_type": "markdown",
   "id": "c885f355",
   "metadata": {},
   "source": [
    "# **Neural Style Transfer**"
   ]
  },
  {
   "cell_type": "markdown",
   "id": "fe5f4ea2",
   "metadata": {},
   "source": [
    "##  Preparation"
   ]
  },
  {
   "cell_type": "markdown",
   "id": "a24fac02",
   "metadata": {},
   "source": [
    "### Imports"
   ]
  },
  {
   "cell_type": "code",
   "execution_count": 1,
   "id": "9b619620",
   "metadata": {},
   "outputs": [
    {
     "name": "stderr",
     "output_type": "stream",
     "text": [
      "2025-06-06 16:47:41.664310: E external/local_xla/xla/stream_executor/cuda/cuda_fft.cc:477] Unable to register cuFFT factory: Attempting to register factory for plugin cuFFT when one has already been registered\n",
      "WARNING: All log messages before absl::InitializeLog() is called are written to STDERR\n",
      "E0000 00:00:1749228461.802557    1156 cuda_dnn.cc:8310] Unable to register cuDNN factory: Attempting to register factory for plugin cuDNN when one has already been registered\n",
      "E0000 00:00:1749228461.838349    1156 cuda_blas.cc:1418] Unable to register cuBLAS factory: Attempting to register factory for plugin cuBLAS when one has already been registered\n",
      "2025-06-06 16:47:42.179298: I tensorflow/core/platform/cpu_feature_guard.cc:210] This TensorFlow binary is optimized to use available CPU instructions in performance-critical operations.\n",
      "To enable the following instructions: AVX2 FMA, in other operations, rebuild TensorFlow with the appropriate compiler flags.\n"
     ]
    }
   ],
   "source": [
    "import tensorflow as tf\n",
    "import numpy as np\n",
    "import os\n",
    "import matplotlib.pyplot as plt\n",
    "from tensorflow.keras.layers import Dense, Flatten, Activation, Conv2D, MaxPooling2D, Dropout, Rescaling\n",
    "from tensorflow.keras.models import Sequential, load_model, Model\n",
    "import kagglehub\n",
    "import glob"
   ]
  },
  {
   "cell_type": "markdown",
   "id": "1f905f76",
   "metadata": {},
   "source": [
    "### Global Variables and Policy"
   ]
  },
  {
   "cell_type": "code",
   "execution_count": 2,
   "id": "13583a25",
   "metadata": {},
   "outputs": [],
   "source": [
    "content_layers = ['block5_conv2']\n",
    "style_layers = ['block1_conv1', 'block2_conv1', 'block3_conv1', 'block4_conv1']"
   ]
  },
  {
   "cell_type": "code",
   "execution_count": 3,
   "id": "a1c354d2",
   "metadata": {},
   "outputs": [],
   "source": [
    "tf.keras.mixed_precision.set_global_policy(\"mixed_float16\")"
   ]
  },
  {
   "cell_type": "code",
   "execution_count": 4,
   "id": "9e978ddd",
   "metadata": {},
   "outputs": [],
   "source": [
    "IMAGE_SIZE = 256\n",
    "epochs = 10\n",
    "batch_size = 2"
   ]
  },
  {
   "cell_type": "code",
   "execution_count": 5,
   "id": "011b75de",
   "metadata": {},
   "outputs": [],
   "source": [
    "gpus = tf.config.experimental.list_physical_devices('GPU')\n",
    "if gpus:\n",
    "    try:\n",
    "        for gpu in gpus:\n",
    "            tf.config.experimental.set_memory_growth(gpu, True)\n",
    "    except RuntimeError as e:\n",
    "        print(\"GPU memory growth configuration error:\", e)"
   ]
  },
  {
   "cell_type": "code",
   "execution_count": 6,
   "id": "85f205f8",
   "metadata": {},
   "outputs": [
    {
     "data": {
      "text/plain": [
       "0"
      ]
     },
     "execution_count": 6,
     "metadata": {},
     "output_type": "execute_result"
    }
   ],
   "source": [
    "import gc\n",
    "tf.keras.backend.clear_session()\n",
    "gc.collect()"
   ]
  },
  {
   "cell_type": "markdown",
   "id": "6a4f5fd0",
   "metadata": {},
   "source": [
    "### Dataset"
   ]
  },
  {
   "cell_type": "code",
   "execution_count": 7,
   "id": "dbbb728e",
   "metadata": {},
   "outputs": [
    {
     "data": {
      "text/plain": [
       "'/home/oslyris/.cache/kagglehub/datasets/shaorrran/coco-wikiart-nst-dataset-512-100000/versions/1'"
      ]
     },
     "execution_count": 7,
     "metadata": {},
     "output_type": "execute_result"
    }
   ],
   "source": [
    "path_to_dataset = kagglehub.dataset_download(\"shaorrran/coco-wikiart-nst-dataset-512-100000\")\n",
    "path_to_dataset"
   ]
  },
  {
   "cell_type": "code",
   "execution_count": 8,
   "id": "df2379fb",
   "metadata": {},
   "outputs": [
    {
     "name": "stdout",
     "output_type": "stream",
     "text": [
      "Found 49981 files.\n"
     ]
    },
    {
     "name": "stderr",
     "output_type": "stream",
     "text": [
      "I0000 00:00:1749228473.119444    1156 gpu_device.cc:2022] Created device /job:localhost/replica:0/task:0/device:GPU:0 with 3539 MB memory:  -> device: 0, name: NVIDIA GeForce RTX 4050 Laptop GPU, pci bus id: 0000:01:00.0, compute capability: 8.9\n"
     ]
    },
    {
     "name": "stdout",
     "output_type": "stream",
     "text": [
      "Found 49981 files.\n"
     ]
    }
   ],
   "source": [
    "content_data = tf.keras.preprocessing.image_dataset_from_directory(directory=path_to_dataset+\"/content/\",\n",
    "                                                                   labels=None,\n",
    "                                                                   label_mode=None,\n",
    "                                                                   color_mode=\"rgb\",\n",
    "                                                                   image_size=(IMAGE_SIZE, IMAGE_SIZE),\n",
    "                                                                   shuffle=True,\n",
    "                                                                   batch_size=batch_size)\n",
    "style_data = tf.keras.preprocessing.image_dataset_from_directory(directory=path_to_dataset+\"/style/\",\n",
    "                                                                 labels=None,\n",
    "                                                                 label_mode=None,\n",
    "                                                                 color_mode=\"rgb\",\n",
    "                                                                 image_size=(IMAGE_SIZE, IMAGE_SIZE),\n",
    "                                                                 shuffle=True,\n",
    "                                                                 batch_size=batch_size)"
   ]
  },
  {
   "cell_type": "code",
   "execution_count": 9,
   "id": "569479de",
   "metadata": {},
   "outputs": [],
   "source": [
    "# normalization layer to rescale\n",
    "normalization_layer = Rescaling(1/255.)\n",
    "\n",
    "# combinbing and rescaling datasets with parallel processing and prefetching\n",
    "dataset = tf.data.Dataset.zip((content_data, style_data))\n",
    "dataset = dataset.map(lambda c, s: (normalization_layer(c), normalization_layer(s)), num_parallel_calls=tf.data.AUTOTUNE).prefetch(buffer_size=tf.data.AUTOTUNE)"
   ]
  },
  {
   "cell_type": "markdown",
   "id": "9246ece7",
   "metadata": {},
   "source": [
    "## Custom Layers"
   ]
  },
  {
   "cell_type": "markdown",
   "id": "edd2dd39",
   "metadata": {},
   "source": [
    "### Adaptive Instance Normalization"
   ]
  },
  {
   "cell_type": "code",
   "execution_count": 10,
   "id": "6205981b",
   "metadata": {},
   "outputs": [],
   "source": [
    "class AdaptiveInstanceNormalization(tf.keras.layers.Layer):\n",
    "    def __init__(self, epsilon=1e-5, **kwargs):\n",
    "        super().__init__(**kwargs)\n",
    "        self.epsilon = epsilon\n",
    "\n",
    "    def call(self, inputs):\n",
    "        content_features, style_features = inputs\n",
    "        stylized_features = []\n",
    "\n",
    "        content_features = tf.cast(content_features, tf.float32)\n",
    "        \n",
    "        for style_feature in style_features:\n",
    "            style_feature = tf.cast(style_feature, tf.float32)\n",
    "            \n",
    "            target_height, target_width = tf.shape(style_feature)[1], tf.shape(style_feature)[2]\n",
    "            \n",
    "            resized_content = tf.image.resize(\n",
    "                content_features, \n",
    "                [target_height, target_width],\n",
    "                method='bilinear'\n",
    "            )\n",
    "            \n",
    "            target_channels = style_feature.shape[-1]\n",
    "            if resized_content.shape[-1] != target_channels:\n",
    "                conv_layer = tf.keras.layers.Conv2D(target_channels, 1, padding='same')\n",
    "                resized_content = conv_layer(resized_content)\n",
    "\n",
    "            content_mean, content_var = tf.nn.moments(resized_content, axes=[1, 2], keepdims=True)\n",
    "            content_std = tf.sqrt(content_var + self.epsilon)\n",
    "            normalized_content = (resized_content - content_mean) / content_std\n",
    "\n",
    "            style_mean, style_var = tf.nn.moments(style_feature, axes=[1, 2], keepdims=True)\n",
    "            style_std = tf.sqrt(style_var + self.epsilon)\n",
    "\n",
    "            style_mean = tf.broadcast_to(style_mean, tf.shape(normalized_content))\n",
    "            style_std = tf.broadcast_to(style_std, tf.shape(normalized_content))\n",
    "\n",
    "            stylized_feature = normalized_content * style_std + style_mean\n",
    "            \n",
    "            stylized_feature = tf.cast(stylized_feature, tf.float16)\n",
    "            stylized_features.append(stylized_feature)\n",
    "\n",
    "        return stylized_features"
   ]
  },
  {
   "cell_type": "markdown",
   "id": "b516f51b",
   "metadata": {},
   "source": [
    "### Style and Content Feature Extractors"
   ]
  },
  {
   "cell_type": "code",
   "execution_count": 11,
   "id": "d9ab20f1",
   "metadata": {},
   "outputs": [],
   "source": [
    "base = tf.keras.applications.VGG19(weights=\"imagenet\", include_top=False)\n",
    "base.trainable = False\n",
    "content_output = [base.get_layer(layer).output for layer in content_layers]\n",
    "style_output = [base.get_layer(layer).output for layer in style_layers]\n",
    "content_extractor = tf.keras.Model(base.input, content_output)\n",
    "style_extractor = tf.keras.Model(base.input, style_output)"
   ]
  },
  {
   "cell_type": "code",
   "execution_count": 12,
   "id": "2787b04b",
   "metadata": {},
   "outputs": [],
   "source": [
    "# tf.keras.utils.plot_model(style_extractor, \"style_extractor.png\", show_shapes=True)"
   ]
  },
  {
   "cell_type": "code",
   "execution_count": 13,
   "id": "9c0a2eb8",
   "metadata": {},
   "outputs": [],
   "source": [
    "# tf.keras.utils.plot_model(content_extractor, \"content_extractor.png\", show_shapes=True)"
   ]
  },
  {
   "cell_type": "markdown",
   "id": "f815e572",
   "metadata": {},
   "source": [
    "### Adaptive Convolutaion Layer"
   ]
  },
  {
   "cell_type": "code",
   "execution_count": null,
   "id": "7dc92ccb",
   "metadata": {},
   "outputs": [],
   "source": [
    "class AdaptiveConv2D(tf.keras.layers.Layer):\n",
    "    def __init__(self, filters, kernel_size=3, **kwargs):\n",
    "        super().__init__(**kwargs)\n",
    "        self.filters = filters\n",
    "        self.kernel_size = kernel_size\n",
    "    \n",
    "    def build(self, input_shape):\n",
    "        content_shape, style_shape = input_shape\n",
    "        self.style_encoder = tf.keras.Sequential([\n",
    "            tf.keras.layers.Conv2D(64, 3, padding='same', activation='relu'),\n",
    "            tf.keras.layers.Conv2D(32, 3, padding='same', activation='relu'),\n",
    "            tf.keras.layers.GlobalAveragePooling2D(),\n",
    "            tf.keras.layers.Dense(128, activation='relu')\n",
    "        ])\n",
    "        self.kernel_predictor = tf.keras.layers.Dense(\n",
    "            self.filters * self.kernel_size * self.kernel_size * content_shape[-1],\n",
    "            kernel_initializer=tf.keras.initializers.RandomNormal(mean=0., stddev=0.02),\n",
    "            dtype='float32'\n",
    "        )\n",
    "        super().build(input_shape)\n",
    "    \n",
    "    def call(self, inputs):\n",
    "        content_features, style_features = inputs\n",
    "        style_vector = self.style_encoder(style_features)\n",
    "        weight = self.kernel_predictor(style_vector)\n",
    "        \n",
    "        batch_size = tf.shape(content_features)[0]\n",
    "        in_channels = content_features.shape[-1]\n",
    "        \n",
    "        weight = tf.reshape(weight, [batch_size, self.kernel_size, self.kernel_size, in_channels, self.filters])\n",
    "        \n",
    "        def single_conv(args):\n",
    "            x, w = args\n",
    "            x = tf.expand_dims(x, 0)\n",
    "            y = tf.nn.conv2d(x, w, strides=1, padding=\"SAME\")\n",
    "            return tf.squeeze(y, 0)\n",
    "        \n",
    "        output = tf.map_fn(single_conv, (content_features, weight), dtype=tf.float32)\n",
    "        return output"
   ]
  },
  {
   "cell_type": "code",
   "execution_count": 15,
   "id": "3ec6aad3",
   "metadata": {},
   "outputs": [
    {
     "name": "stderr",
     "output_type": "stream",
     "text": [
      "I0000 00:00:1749228476.995829    1156 cuda_dnn.cc:529] Loaded cuDNN version 90300\n",
      "2025-06-06 16:47:58.346702: W external/local_xla/xla/tsl/framework/bfc_allocator.cc:306] Allocator (GPU_0_bfc) ran out of memory trying to allocate 4.13GiB with freed_by_count=0. The caller indicates that this is not a failure, but this may mean that there could be performance gains if more memory were available.\n",
      "2025-06-06 16:47:58.627763: W external/local_xla/xla/tsl/framework/bfc_allocator.cc:306] Allocator (GPU_0_bfc) ran out of memory trying to allocate 4.12GiB with freed_by_count=0. The caller indicates that this is not a failure, but this may mean that there could be performance gains if more memory were available.\n",
      "2025-06-06 16:47:58.969894: W external/local_xla/xla/tsl/framework/bfc_allocator.cc:306] Allocator (GPU_0_bfc) ran out of memory trying to allocate 4.17GiB with freed_by_count=0. The caller indicates that this is not a failure, but this may mean that there could be performance gains if more memory were available.\n",
      "2025-06-06 16:47:59.162476: W external/local_xla/xla/tsl/framework/bfc_allocator.cc:378] Garbage collection: deallocate free memory regions (i.e., allocations) so that we can re-allocate a larger region to avoid OOM due to memory fragmentation. If you see this message frequently, you are running near the threshold of the available device memory and re-allocation may incur great performance overhead. You may try smaller batch sizes to observe the performance impact. Set TF_ENABLE_GPU_GARBAGE_COLLECTION=false if you'd like to disable this feature.\n"
     ]
    }
   ],
   "source": [
    "test =  dataset.take(1)\n",
    "content, style = next(iter(test))\n",
    "content = content_extractor(content)\n",
    "style = style_extractor(style)\n",
    "adain = AdaptiveInstanceNormalization()([content, style])"
   ]
  },
  {
   "cell_type": "code",
   "execution_count": 16,
   "id": "393d86f5",
   "metadata": {},
   "outputs": [
    {
     "data": {
      "text/plain": [
       "(4, tf.float16)"
      ]
     },
     "execution_count": 16,
     "metadata": {},
     "output_type": "execute_result"
    }
   ],
   "source": [
    "len(adain), adain[0].dtype"
   ]
  },
  {
   "cell_type": "code",
   "execution_count": 17,
   "id": "d8faf98d",
   "metadata": {},
   "outputs": [
    {
     "data": {
      "text/plain": [
       "(TensorShape([2, 256, 256, 64]),\n",
       " TensorShape([2, 128, 128, 128]),\n",
       " TensorShape([2, 64, 64, 256]),\n",
       " TensorShape([2, 32, 32, 512]))"
      ]
     },
     "execution_count": 17,
     "metadata": {},
     "output_type": "execute_result"
    }
   ],
   "source": [
    "adain[0].shape, adain[1].shape, adain[2].shape, adain[3].shape"
   ]
  },
  {
   "cell_type": "code",
   "execution_count": 18,
   "id": "0d0d03d9",
   "metadata": {},
   "outputs": [],
   "source": [
    "style = [tf.cast(style[i], tf.float16) for i in range(4)]"
   ]
  },
  {
   "cell_type": "code",
   "execution_count": 19,
   "id": "8754f580",
   "metadata": {},
   "outputs": [
    {
     "data": {
      "text/plain": [
       "(TensorShape([2, 256, 256, 64]),\n",
       " TensorShape([2, 128, 128, 128]),\n",
       " TensorShape([2, 64, 64, 256]),\n",
       " TensorShape([2, 32, 32, 512]))"
      ]
     },
     "execution_count": 19,
     "metadata": {},
     "output_type": "execute_result"
    }
   ],
   "source": [
    "style[0].shape, style[1].shape, style[2].shape, style[3].shape"
   ]
  },
  {
   "cell_type": "code",
   "execution_count": 20,
   "id": "f37cc7be",
   "metadata": {},
   "outputs": [
    {
     "data": {
      "text/plain": [
       "TensorShape([2, 256, 256, 256])"
      ]
     },
     "execution_count": 20,
     "metadata": {},
     "output_type": "execute_result"
    }
   ],
   "source": [
    "adaConv = AdaptiveConv2D(256)([adain[0], style[0]])\n",
    "    \n",
    "adaConv.shape"
   ]
  },
  {
   "cell_type": "code",
   "execution_count": null,
   "id": "9d6520f3",
   "metadata": {},
   "outputs": [],
   "source": []
  }
 ],
 "metadata": {
  "kernelspec": {
   "display_name": "imgCl",
   "language": "python",
   "name": "python3"
  },
  "language_info": {
   "codemirror_mode": {
    "name": "ipython",
    "version": 3
   },
   "file_extension": ".py",
   "mimetype": "text/x-python",
   "name": "python",
   "nbconvert_exporter": "python",
   "pygments_lexer": "ipython3",
   "version": "3.12.3"
  }
 },
 "nbformat": 4,
 "nbformat_minor": 5
}
